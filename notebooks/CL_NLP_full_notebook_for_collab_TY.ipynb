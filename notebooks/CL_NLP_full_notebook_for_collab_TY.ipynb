{
  "nbformat": 4,
  "nbformat_minor": 0,
  "metadata": {
    "colab": {
      "name": "Copy of CL_NLP_full_notebook_for_collab.ipynb",
      "provenance": [],
      "collapsed_sections": []
    },
    "kernelspec": {
      "display_name": "Python 3",
      "language": "python",
      "name": "python3"
    },
    "language_info": {
      "codemirror_mode": {
        "name": "ipython",
        "version": 3
      },
      "file_extension": ".py",
      "mimetype": "text/x-python",
      "name": "python",
      "nbconvert_exporter": "python",
      "pygments_lexer": "ipython3",
      "version": "3.6.8"
    }
  },
  "cells": [
    {
      "cell_type": "markdown",
      "metadata": {
        "colab_type": "text",
        "id": "_dWYnIrXKqOV"
      },
      "source": [
        "# Setup\n",
        "\n",
        "First let's install and setup the necessary libraries.\n",
        "\n",
        "First clone the github repository with the following command:"
      ]
    },
    {
      "cell_type": "code",
      "metadata": {
        "colab_type": "code",
        "id": "MV3AKSEPKqOy",
        "outputId": "b3df78d6-fb52-476f-bbbd-fa30e1da5a98",
        "colab": {
          "base_uri": "https://localhost:8080/",
          "height": 299
        }
      },
      "source": [
        "import os\n",
        "\n",
        "!git clone https://github.com/ioannispartalas/CrossLingual-NLP-AMLD2020.git\n",
        "#With this command, the path to the data is \n",
        "workdir = './CrossLingual-NLP-AMLD2020/'\n",
        "os.environ[\"WORKDIR\"] = workdir\n",
        "\n",
        "#Please check if this correct, otherwise correct path_to_data\n",
        "!printenv WORKDIR\n",
        "!ls $WORKDIR/data/laser\n",
        "!mkdir $WORKDIR/data/raw"
      ],
      "execution_count": 1,
      "outputs": [
        {
          "output_type": "stream",
          "text": [
            "Cloning into 'CrossLingual-NLP-AMLD2020'...\n",
            "remote: Enumerating objects: 134, done.\u001b[K\n",
            "remote: Counting objects:   0% (1/134)\u001b[K\rremote: Counting objects:   1% (2/134)\u001b[K\rremote: Counting objects:   2% (3/134)\u001b[K\rremote: Counting objects:   3% (5/134)\u001b[K\rremote: Counting objects:   4% (6/134)\u001b[K\rremote: Counting objects:   5% (7/134)\u001b[K\rremote: Counting objects:   6% (9/134)\u001b[K\rremote: Counting objects:   7% (10/134)\u001b[K\rremote: Counting objects:   8% (11/134)\u001b[K\rremote: Counting objects:   9% (13/134)\u001b[K\rremote: Counting objects:  10% (14/134)\u001b[K\rremote: Counting objects:  11% (15/134)\u001b[K\rremote: Counting objects:  12% (17/134)\u001b[K\rremote: Counting objects:  13% (18/134)\u001b[K\rremote: Counting objects:  14% (19/134)\u001b[K\rremote: Counting objects:  15% (21/134)\u001b[K\rremote: Counting objects:  16% (22/134)\u001b[K\rremote: Counting objects:  17% (23/134)\u001b[K\rremote: Counting objects:  18% (25/134)\u001b[K\rremote: Counting objects:  19% (26/134)\u001b[K\rremote: Counting objects:  20% (27/134)\u001b[K\rremote: Counting objects:  21% (29/134)\u001b[K\rremote: Counting objects:  22% (30/134)\u001b[K\rremote: Counting objects:  23% (31/134)\u001b[K\rremote: Counting objects:  24% (33/134)\u001b[K\rremote: Counting objects:  25% (34/134)\u001b[K\rremote: Counting objects:  26% (35/134)\u001b[K\rremote: Counting objects:  27% (37/134)\u001b[K\rremote: Counting objects:  28% (38/134)\u001b[K\rremote: Counting objects:  29% (39/134)\u001b[K\rremote: Counting objects:  30% (41/134)\u001b[K\rremote: Counting objects:  31% (42/134)\u001b[K\rremote: Counting objects:  32% (43/134)\u001b[K\rremote: Counting objects:  33% (45/134)\u001b[K\rremote: Counting objects:  34% (46/134)\u001b[K\rremote: Counting objects:  35% (47/134)\u001b[K\rremote: Counting objects:  36% (49/134)\u001b[K\rremote: Counting objects:  37% (50/134)\u001b[K\rremote: Counting objects:  38% (51/134)\u001b[K\rremote: Counting objects:  39% (53/134)\u001b[K\rremote: Counting objects:  40% (54/134)\u001b[K\rremote: Counting objects:  41% (55/134)\u001b[K\rremote: Counting objects:  42% (57/134)\u001b[K\rremote: Counting objects:  43% (58/134)\u001b[K\rremote: Counting objects:  44% (59/134)\u001b[K\rremote: Counting objects:  45% (61/134)\u001b[K\rremote: Counting objects:  46% (62/134)\u001b[K\rremote: Counting objects:  47% (63/134)\u001b[K\rremote: Counting objects:  48% (65/134)\u001b[K\rremote: Counting objects:  49% (66/134)\u001b[K\rremote: Counting objects:  50% (67/134)\u001b[K\rremote: Counting objects:  51% (69/134)\u001b[K\rremote: Counting objects:  52% (70/134)\u001b[K\rremote: Counting objects:  53% (72/134)\u001b[K\rremote: Counting objects:  54% (73/134)\u001b[K\rremote: Counting objects:  55% (74/134)\u001b[K\rremote: Counting objects:  56% (76/134)\u001b[K\rremote: Counting objects:  57% (77/134)\u001b[K\rremote: Counting objects:  58% (78/134)\u001b[K\rremote: Counting objects:  59% (80/134)\u001b[K\rremote: Counting objects:  60% (81/134)\u001b[K\rremote: Counting objects:  61% (82/134)\u001b[K\rremote: Counting objects:  62% (84/134)\u001b[K\rremote: Counting objects:  63% (85/134)\u001b[K\rremote: Counting objects:  64% (86/134)\u001b[K\rremote: Counting objects:  65% (88/134)\u001b[K\rremote: Counting objects:  66% (89/134)\u001b[K\rremote: Counting objects:  67% (90/134)\u001b[K\rremote: Counting objects:  68% (92/134)\u001b[K\rremote: Counting objects:  69% (93/134)\u001b[K\rremote: Counting objects:  70% (94/134)\u001b[K\rremote: Counting objects:  71% (96/134)\u001b[K\rremote: Counting objects:  72% (97/134)\u001b[K\rremote: Counting objects:  73% (98/134)\u001b[K\rremote: Counting objects:  74% (100/134)\u001b[K\rremote: Counting objects:  75% (101/134)\u001b[K\rremote: Counting objects:  76% (102/134)\u001b[K\rremote: Counting objects:  77% (104/134)\u001b[K\rremote: Counting objects:  78% (105/134)\u001b[K\rremote: Counting objects:  79% (106/134)\u001b[K\rremote: Counting objects:  80% (108/134)\u001b[K\rremote: Counting objects:  81% (109/134)\u001b[K\rremote: Counting objects:  82% (110/134)\u001b[K\rremote: Counting objects:  83% (112/134)\u001b[K\rremote: Counting objects:  84% (113/134)\u001b[K\rremote: Counting objects:  85% (114/134)\u001b[K\rremote: Counting objects:  86% (116/134)\u001b[K\rremote: Counting objects:  87% (117/134)\u001b[K\rremote: Counting objects:  88% (118/134)\u001b[K\rremote: Counting objects:  89% (120/134)\u001b[K\rremote: Counting objects:  90% (121/134)\u001b[K\rremote: Counting objects:  91% (122/134)\u001b[K\rremote: Counting objects:  92% (124/134)\u001b[K\rremote: Counting objects:  93% (125/134)\u001b[K\rremote: Counting objects:  94% (126/134)\u001b[K\rremote: Counting objects:  95% (128/134)\u001b[K\rremote: Counting objects:  96% (129/134)\u001b[K\rremote: Counting objects:  97% (130/134)\u001b[K\rremote: Counting objects:  98% (132/134)\u001b[K\rremote: Counting objects:  99% (133/134)\u001b[K\rremote: Counting objects: 100% (134/134)\u001b[K\rremote: Counting objects: 100% (134/134), done.\u001b[K\n",
            "remote: Compressing objects: 100% (121/121), done.\u001b[K\n",
            "remote: Total 465 (delta 83), reused 29 (delta 13), pack-reused 331\u001b[K\n",
            "Receiving objects: 100% (465/465), 63.94 MiB | 30.11 MiB/s, done.\n",
            "Resolving deltas: 100% (260/260), done.\n",
            "./CrossLingual-NLP-AMLD2020/\n",
            "ar_laser_test.npy\t  es_laser_test.npy\t    ru_laser_test.npy\n",
            "ar_laser_train.npy\t  es_laser_train.npy\t    ru_laser_train.npy\n",
            "ar_test_labels_adan.txt   es_test_labels_adan.txt   ru_test_labels_adan.txt\n",
            "ar_train_labels_adan.txt  es_train_labels_adan.txt  ru_train_labels_adan.txt\n",
            "en_laser_test.npy\t  nl_laser_test.npy\t    tr_laser_test.npy\n",
            "en_laser_train.npy\t  nl_laser_train.npy\t    tr_laser_train.npy\n",
            "en_test_labels_adan.txt   nl_test_labels_adan.txt   tr_test_labels_adan.txt\n",
            "en_train_labels_adan.txt  nl_train_labels_adan.txt  tr_train_labels_adan.txt\n"
          ],
          "name": "stdout"
        }
      ]
    },
    {
      "cell_type": "markdown",
      "metadata": {
        "colab_type": "text",
        "id": "38uYYYfCDz55"
      },
      "source": [
        "Download data from on your local file system and upload it to colab fs with the cell below"
      ]
    },
    {
      "cell_type": "code",
      "metadata": {
        "colab_type": "code",
        "id": "ilYMXGhaxIJf",
        "colab": {}
      },
      "source": [
        "# from google.colab import files\n",
        "# uploaded = files.upload()\n",
        "# !tar -jxf *.bz2 -C  $WORKDIR/data/raw/\n",
        "# !rm ./semeveal15_sentiment_datasets.tar.bz2"
      ],
      "execution_count": 0,
      "outputs": []
    },
    {
      "cell_type": "code",
      "metadata": {
        "id": "802iKv8-taLw",
        "colab_type": "code",
        "colab": {}
      },
      "source": [
        "# TY_COMMENT\n",
        "# above cell does not work with safari.\n",
        "# either switch to chrome \n",
        "# or upload the gz2 file using \"upload\" button on the side bar \n",
        "# then do the following:\n",
        "\n",
        "!tar -jxf *.bz2 -C  $WORKDIR/data/raw/\n",
        "!rm ./semeveal15_sentiment_datasets.tar.bz2"
      ],
      "execution_count": 0,
      "outputs": []
    },
    {
      "cell_type": "code",
      "metadata": {
        "id": "1-e5eYKMQ-zh",
        "colab_type": "code",
        "colab": {
          "base_uri": "https://localhost:8080/",
          "height": 70
        },
        "outputId": "38f87696-4826-421c-b972-c075009b1fb5"
      },
      "source": [
        "# Make sure you have all the semeval files \n",
        "!ls $WORKDIR/data/raw"
      ],
      "execution_count": 4,
      "outputs": [
        {
          "output_type": "stream",
          "text": [
            "semeval15.en.test.csv\tsemeval15.es.train.csv\tsemeval15.ru.test.csv\n",
            "semeval15.en.train.csv\tsemeval15.nl.test.csv\tsemeval15.ru.train.csv\n",
            "semeval15.es.test.csv\tsemeval15.nl.train.csv\n"
          ],
          "name": "stdout"
        }
      ]
    },
    {
      "cell_type": "markdown",
      "metadata": {
        "colab_type": "text",
        "id": "8W3-_XJZFA9s"
      },
      "source": [
        "Install LASER and conceptNet.  **This might take a \n",
        "while**\n",
        "\n",
        "\n"
      ]
    },
    {
      "cell_type": "code",
      "metadata": {
        "colab_type": "code",
        "id": "ksFtp-qvKqPO",
        "colab": {
          "base_uri": "https://localhost:8080/",
          "height": 1000
        },
        "outputId": "58fb446c-a9fd-4973-810c-77933c6a38f6"
      },
      "source": [
        "%cd CrossLingual-NLP-AMLD2020/\n",
        "!bash install_laser.sh\n",
        "!bash download_conceptNet.sh"
      ],
      "execution_count": 5,
      "outputs": [
        {
          "output_type": "stream",
          "text": [
            "/content/CrossLingual-NLP-AMLD2020\n",
            "Checking out github repo\n",
            "/root/projects\n",
            "Cloning into 'LASER'...\n",
            "remote: Enumerating objects: 8, done.\u001b[K\n",
            "remote: Counting objects: 100% (8/8), done.\u001b[K\n",
            "remote: Compressing objects: 100% (8/8), done.\u001b[K\n",
            "remote: Total 756 (delta 2), reused 2 (delta 0), pack-reused 748\u001b[K\n",
            "Receiving objects: 100% (756/756), 2.77 MiB | 18.05 MiB/s, done.\n",
            "Resolving deltas: 100% (281/281), done.\n",
            "Collecting transliterate\n",
            "\u001b[?25l  Downloading https://files.pythonhosted.org/packages/a1/6e/9a9d597dbdd6d0172427c8cc07c35736471e631060df9e59eeb87687f817/transliterate-1.10.2-py2.py3-none-any.whl (45kB)\n",
            "\u001b[K     |████████████████████████████████| 51kB 1.7MB/s \n",
            "\u001b[?25hRequirement already satisfied: six>=1.1.0 in /usr/local/lib/python3.6/dist-packages (from transliterate) (1.12.0)\n",
            "Installing collected packages: transliterate\n",
            "Successfully installed transliterate-1.10.2\n",
            "Downloading networks\n",
            " - creating directory /root/projects/LASER/models\n",
            " - bilstm.eparl21.2018-11-19.pt\n",
            " - eparl21.fcodes\n",
            " - eparl21.fvocab\n",
            " - bilstm.93langs.2018-12-26.pt\n",
            " - 93langs.fcodes\n",
            " - 93langs.fvocab\n",
            "Installing external tools\n",
            " - creating directory /root/projects/LASER/tools-external/moses-tokenizer/tokenizer\n",
            " - download tokenizer/tokenizer.perl\n",
            " - download tokenizer/detokenizer.perl\n",
            " - download tokenizer/normalize-punctuation.perl\n",
            " - download tokenizer/remove-non-printing-char.perl\n",
            " - download tokenizer/deescape-special-chars.perl\n",
            " - download tokenizer/lowercase.perl\n",
            " - download tokenizer/basic-protected-patterns\n",
            " - creating directory /root/projects/LASER/tools-external/moses-tokenizer/share/nonbreaking_prefixes\n",
            " - download share/nonbreaking_prefixes/nonbreaking_prefix.ca\n",
            " - download share/nonbreaking_prefixes/nonbreaking_prefix.cs\n",
            " - download share/nonbreaking_prefixes/nonbreaking_prefix.de\n",
            " - download share/nonbreaking_prefixes/nonbreaking_prefix.el\n",
            " - download share/nonbreaking_prefixes/nonbreaking_prefix.en\n",
            " - download share/nonbreaking_prefixes/nonbreaking_prefix.es\n",
            " - download share/nonbreaking_prefixes/nonbreaking_prefix.fi\n",
            " - download share/nonbreaking_prefixes/nonbreaking_prefix.fr\n",
            " - download share/nonbreaking_prefixes/nonbreaking_prefix.ga\n",
            " - download share/nonbreaking_prefixes/nonbreaking_prefix.hu\n",
            " - download share/nonbreaking_prefixes/nonbreaking_prefix.is\n",
            " - download share/nonbreaking_prefixes/nonbreaking_prefix.it\n",
            " - download share/nonbreaking_prefixes/nonbreaking_prefix.lt\n",
            " - download share/nonbreaking_prefixes/nonbreaking_prefix.lv\n",
            " - download share/nonbreaking_prefixes/nonbreaking_prefix.nl\n",
            " - download share/nonbreaking_prefixes/nonbreaking_prefix.pl\n",
            " - download share/nonbreaking_prefixes/nonbreaking_prefix.pt\n",
            " - download share/nonbreaking_prefixes/nonbreaking_prefix.ro\n",
            " - download share/nonbreaking_prefixes/nonbreaking_prefix.ru\n",
            " - download share/nonbreaking_prefixes/nonbreaking_prefix.sk\n",
            " - download share/nonbreaking_prefixes/nonbreaking_prefix.sl\n",
            " - download share/nonbreaking_prefixes/nonbreaking_prefix.sv\n",
            " - download share/nonbreaking_prefixes/nonbreaking_prefix.ta\n",
            " - download share/nonbreaking_prefixes/nonbreaking_prefix.yue\n",
            " - download share/nonbreaking_prefixes/nonbreaking_prefix.zh\n",
            " - download fastBPE software from github\n",
            "--2020-05-19 14:10:22--  https://github.com/glample/fastBPE/archive/master.zip\n",
            "Resolving github.com (github.com)... 140.82.114.4\n",
            "Connecting to github.com (github.com)|140.82.114.4|:443... connected.\n",
            "HTTP request sent, awaiting response... 302 Found\n",
            "Location: https://codeload.github.com/glample/fastBPE/zip/master [following]\n",
            "--2020-05-19 14:10:22--  https://codeload.github.com/glample/fastBPE/zip/master\n",
            "Resolving codeload.github.com (codeload.github.com)... 140.82.113.9\n",
            "Connecting to codeload.github.com (codeload.github.com)|140.82.113.9|:443... connected.\n",
            "HTTP request sent, awaiting response... 200 OK\n",
            "Length: unspecified [application/zip]\n",
            "Saving to: ‘master.zip’\n",
            "\n",
            "master.zip              [ <=>                ]   9.46K  --.-KB/s    in 0.001s  \n",
            "\n",
            "2020-05-19 14:10:23 (8.18 MB/s) - ‘master.zip’ saved [9684]\n",
            "\n",
            "Archive:  master.zip\n",
            "036711f8fdc3265d64e8e123a0761be12c5a8e74\n",
            "   creating: fastBPE-master/\n",
            "  inflating: fastBPE-master/LICENSE  \n",
            "  inflating: fastBPE-master/MANIFEST.in  \n",
            "  inflating: fastBPE-master/README.md  \n",
            "   creating: fastBPE-master/fastBPE/\n",
            "  inflating: fastBPE-master/fastBPE/fastBPE.hpp  \n",
            "  inflating: fastBPE-master/fastBPE/fastBPE.pyx  \n",
            "  inflating: fastBPE-master/fastBPE/main.cc  \n",
            "  inflating: fastBPE-master/setup.py  \n",
            " - compiling\n",
            "Compiling fastBPE/fastBPE.pyx because it changed.\n",
            "[1/1] Cythonizing fastBPE/fastBPE.pyx\n",
            "running install\n",
            "running bdist_egg\n",
            "running egg_info\n",
            "creating fastBPE.egg-info\n",
            "writing fastBPE.egg-info/PKG-INFO\n",
            "writing dependency_links to fastBPE.egg-info/dependency_links.txt\n",
            "writing top-level names to fastBPE.egg-info/top_level.txt\n",
            "writing manifest file 'fastBPE.egg-info/SOURCES.txt'\n",
            "package init file 'fastBPE/__init__.py' not found (or not a regular file)\n",
            "reading manifest file 'fastBPE.egg-info/SOURCES.txt'\n",
            "reading manifest template 'MANIFEST.in'\n",
            "writing manifest file 'fastBPE.egg-info/SOURCES.txt'\n",
            "installing library code to build/bdist.linux-x86_64/egg\n",
            "running install_lib\n",
            "running build_py\n",
            "running build_ext\n",
            "building 'fastBPE' extension\n",
            "creating build\n",
            "creating build/temp.linux-x86_64-3.6\n",
            "creating build/temp.linux-x86_64-3.6/fastBPE\n",
            "x86_64-linux-gnu-gcc -pthread -DNDEBUG -g -fwrapv -O2 -Wall -g -fstack-protector-strong -Wformat -Werror=format-security -Wdate-time -D_FORTIFY_SOURCE=2 -fPIC -IfastBPE -I/usr/include/python3.6m -c fastBPE/fastBPE.cpp -o build/temp.linux-x86_64-3.6/fastBPE/fastBPE.o -std=c++11 -Ofast -pthread\n",
            "creating build/lib.linux-x86_64-3.6\n",
            "x86_64-linux-gnu-g++ -pthread -shared -Wl,-O1 -Wl,-Bsymbolic-functions -Wl,-Bsymbolic-functions -Wl,-z,relro -Wl,-Bsymbolic-functions -Wl,-z,relro -g -fstack-protector-strong -Wformat -Werror=format-security -Wdate-time -D_FORTIFY_SOURCE=2 build/temp.linux-x86_64-3.6/fastBPE/fastBPE.o -o build/lib.linux-x86_64-3.6/fastBPE.cpython-36m-x86_64-linux-gnu.so\n",
            "creating build/bdist.linux-x86_64\n",
            "creating build/bdist.linux-x86_64/egg\n",
            "copying build/lib.linux-x86_64-3.6/fastBPE.cpython-36m-x86_64-linux-gnu.so -> build/bdist.linux-x86_64/egg\n",
            "creating stub loader for fastBPE.cpython-36m-x86_64-linux-gnu.so\n",
            "byte-compiling build/bdist.linux-x86_64/egg/fastBPE.py to fastBPE.cpython-36.pyc\n",
            "creating build/bdist.linux-x86_64/egg/EGG-INFO\n",
            "copying fastBPE.egg-info/PKG-INFO -> build/bdist.linux-x86_64/egg/EGG-INFO\n",
            "copying fastBPE.egg-info/SOURCES.txt -> build/bdist.linux-x86_64/egg/EGG-INFO\n",
            "copying fastBPE.egg-info/dependency_links.txt -> build/bdist.linux-x86_64/egg/EGG-INFO\n",
            "copying fastBPE.egg-info/top_level.txt -> build/bdist.linux-x86_64/egg/EGG-INFO\n",
            "writing build/bdist.linux-x86_64/egg/EGG-INFO/native_libs.txt\n",
            "zip_safe flag not set; analyzing archive contents...\n",
            "__pycache__.fastBPE.cpython-36: module references __file__\n",
            "creating dist\n",
            "creating 'dist/fastBPE-0.1.1-py3.6-linux-x86_64.egg' and adding 'build/bdist.linux-x86_64/egg' to it\n",
            "removing 'build/bdist.linux-x86_64/egg' (and everything under it)\n",
            "Processing fastBPE-0.1.1-py3.6-linux-x86_64.egg\n",
            "creating /usr/local/lib/python3.6/dist-packages/fastBPE-0.1.1-py3.6-linux-x86_64.egg\n",
            "Extracting fastBPE-0.1.1-py3.6-linux-x86_64.egg to /usr/local/lib/python3.6/dist-packages\n",
            "Adding fastBPE 0.1.1 to easy-install.pth file\n",
            "\n",
            "Installed /usr/local/lib/python3.6/dist-packages/fastBPE-0.1.1-py3.6-linux-x86_64.egg\n",
            "Processing dependencies for fastBPE==0.1.1\n",
            "Finished processing dependencies for fastBPE==0.1.1\n",
            "\n",
            "automatic installation of the Japanese tokenizer mecab may be tricky\n",
            "Please install it manually from https://github.com/taku910/mecab\n",
            "\n",
            "The installation directory should be /root/projects/LASER/tools-external/mecab\n",
            "\n",
            "Start downloading embeddings..\n",
            "--2020-05-19 14:10:34--  https://conceptnet.s3.amazonaws.com/downloads/2017/numberbatch/numberbatch-17.06.txt.gz\n",
            "Resolving conceptnet.s3.amazonaws.com (conceptnet.s3.amazonaws.com)... 52.217.45.4\n",
            "Connecting to conceptnet.s3.amazonaws.com (conceptnet.s3.amazonaws.com)|52.217.45.4|:443... connected.\n",
            "HTTP request sent, awaiting response... 200 OK\n",
            "Length: 1193268949 (1.1G) [text/plain]\n",
            "Saving to: ‘numberbatch-17.06.txt.gz’\n",
            "\n",
            "numberbatch-17.06.t 100%[===================>]   1.11G  46.4MB/s    in 25s     \n",
            "\n",
            "2020-05-19 14:10:59 (44.8 MB/s) - ‘numberbatch-17.06.txt.gz’ saved [1193268949/1193268949]\n",
            "\n",
            "Embeddings downloaded. Start unzipping.\n",
            "Embeddings unzipped. Start filtering English and Spanish words.\n",
            "Done. Cleaning..\n",
            "Done!\n",
            "\n",
            "\n",
            "\n"
          ],
          "name": "stdout"
        }
      ]
    },
    {
      "cell_type": "markdown",
      "metadata": {
        "colab_type": "text",
        "id": "HcegNHZPKqPo"
      },
      "source": [
        "Restart the runtime  environnement."
      ]
    },
    {
      "cell_type": "code",
      "metadata": {
        "colab_type": "code",
        "id": "S4jhV-y5DHSF",
        "colab": {}
      },
      "source": [
        "os.kill(os.getpid(), 9)"
      ],
      "execution_count": 0,
      "outputs": []
    },
    {
      "cell_type": "markdown",
      "metadata": {
        "colab_type": "text",
        "id": "QKgzMiOYDPPD"
      },
      "source": [
        "Set  environnement variables and load modules"
      ]
    },
    {
      "cell_type": "code",
      "metadata": {
        "colab_type": "code",
        "id": "TzJZ79Y4KqPu",
        "colab": {}
      },
      "source": [
        "import sys\n",
        "import os\n",
        "import importlib\n",
        "\n",
        "os.environ.setdefault(\"LASER\",\"/root/projects/LASER/\")\n",
        "assert os.environ.get('LASER'), 'Please set the environement variable LASER'\n",
        "LASER = os.environ['LASER']\n",
        "sys.path.append(LASER + 'source/lib')\n",
        "sys.path.append(LASER+\"source/\")\n",
        "\n",
        "workdir = './CrossLingual-NLP-AMLD2020/'\n",
        "os.environ[\"WORKDIR\"] = workdir\n",
        "sys.path.insert(1, workdir)\n",
        "\n",
        "from src.models import *"
      ],
      "execution_count": 0,
      "outputs": []
    },
    {
      "cell_type": "code",
      "metadata": {
        "id": "hn9ru80gSns3",
        "colab_type": "code",
        "colab": {
          "base_uri": "https://localhost:8080/",
          "height": 52
        },
        "outputId": "8fdff676-1ced-42f2-8620-b904236cbeb4"
      },
      "source": [
        "!printenv WORKDIR\n",
        "!printenv LASER"
      ],
      "execution_count": 2,
      "outputs": [
        {
          "output_type": "stream",
          "text": [
            "./CrossLingual-NLP-AMLD2020/\n",
            "/root/projects/LASER/\n"
          ],
          "name": "stdout"
        }
      ]
    },
    {
      "cell_type": "markdown",
      "metadata": {
        "colab_type": "text",
        "id": "8vNOIVQOKqP3"
      },
      "source": [
        "If everything went well the following should not print any errors."
      ]
    },
    {
      "cell_type": "code",
      "metadata": {
        "colab_type": "code",
        "id": "7EhaiKvfKqP5",
        "outputId": "818b58c8-f6f1-460f-b041-b1539c37560a",
        "colab": {
          "base_uri": "https://localhost:8080/"
        }
      },
      "source": [
        "import sys\n",
        "sys.path.append(\"..\")\n",
        "from src.models import *\n",
        "\n",
        "print(Doc2Laser.__doc__)"
      ],
      "execution_count": 3,
      "outputs": [
        {
          "output_type": "stream",
          "text": [
            "Transform raw documents to their LASER representations.\n",
            "    \n",
            "    Parameters:\n",
            "    -------------\n",
            "    lang: string, the language to encode\n",
            "    cpu: boolean, whether to use cpu of gpu\n",
            "    \n"
          ],
          "name": "stdout"
        }
      ]
    },
    {
      "cell_type": "markdown",
      "metadata": {
        "id": "Sh9pQNDzvs3B",
        "colab_type": "text"
      },
      "source": [
        "Yay!"
      ]
    },
    {
      "cell_type": "markdown",
      "metadata": {
        "colab_type": "text",
        "id": "nvnCwzJpKqQH"
      },
      "source": [
        "# Introduction to Language Representation and Text Classification"
      ]
    },
    {
      "cell_type": "markdown",
      "metadata": {
        "id": "ZZlYPmddnZiU",
        "colab_type": "text"
      },
      "source": [
        "## Language is hard! \n",
        "\n",
        "Take a look at the following sentences: \n",
        "1. Jane went to the store\n",
        "2. went the to Jane store \n",
        "3. Jane went store \n",
        "4. Jane goed store \n",
        "\n",
        "They (try to) express similar meanings, but some feel un-natural!  \n",
        "\n",
        "Several things to handle: \n",
        "- Morphology\n",
        "- Syntax <- touch on this \n",
        "- Semantics/World Knowledge <- touch on this but mostly shallow semantics\n",
        "- Discourse \n",
        "- Pragmatics \n",
        "- Multilinguality <- focus on this\n"
      ]
    },
    {
      "cell_type": "markdown",
      "metadata": {
        "id": "fRxsztDbn0YK",
        "colab_type": "text"
      },
      "source": [
        "\n",
        "## Sentiment Classification\n",
        "- A type of Text Classification task.\n",
        "- binary (positive, negative)\n",
        "- ternary (positive, neutral, negative)\n",
        "- ordinal (image below!)\n",
        "\n",
        "<img src=\"https://github.com/ioannispartalas/CrossLingual-NLP-AMLD2020/blob/master/data/images/sentiment-5class.png?raw=1\" width=\"600\">\n",
        "\n",
        "*Input* (x): a text span \n",
        "\n",
        "*Output* (y): a class/category (sentiment polarity in the sentiment classification example)\n",
        "\n",
        "**Goal**: Train a function $f(x) \\rightarrow y$\n",
        "\n",
        "- How to represent text? \n",
        "- What functions can we use for the task? \n",
        "- How to evaluate performance?\n"
      ]
    },
    {
      "cell_type": "markdown",
      "metadata": {
        "colab_type": "text",
        "id": "ycmXbYllKqQK"
      },
      "source": [
        "\n",
        "## Machine Learning workflow\n",
        "1. Get data\n",
        "1. Inspect the data\n",
        "1. Preprocess/Clean/Normalize the data\n",
        "1. Vector Representation\n",
        "1. Modeling \n",
        "1. Evaluation\n",
        "\n",
        "<img src=\"https://github.com/ioannispartalas/CrossLingual-NLP-AMLD2020/blob/master/data/images/pipeline.png?raw=1\" width=\"600\">\n",
        "\n",
        "\n"
      ]
    },
    {
      "cell_type": "markdown",
      "metadata": {
        "id": "uSEN-u6XoCjd",
        "colab_type": "text"
      },
      "source": [
        "## Text representation: Bag-of-Words and TF/IDF weiging\n",
        "\n",
        "Given a text, extract the vocabulary, build a vector of dim $|V|$, non-zeros are words that appear. \n",
        "<img src=\"https://github.com/ioannispartalas/CrossLingual-NLP-AMLD2020/blob/master/data/images/textVectorization.png?raw=1\" width=\"600\">"
      ]
    },
    {
      "cell_type": "code",
      "metadata": {
        "colab_type": "code",
        "id": "4cGT-e6ZKqQN",
        "outputId": "d50d2a55-b4d3-4451-def0-8915175ea99f",
        "colab": {
          "base_uri": "https://localhost:8080/",
          "height": 105
        }
      },
      "source": [
        "from sklearn.feature_extraction.text import CountVectorizer\n",
        "corpus = ['This is the first document.',\n",
        "'This document is the second document.',\n",
        "'And this is the third one.',\n",
        "'Is this the first document?']\n",
        "\n",
        "vectorizer = CountVectorizer()\n",
        "X = vectorizer.fit_transform(corpus)\n",
        "print(vectorizer.get_feature_names())\n",
        "print(X.toarray())"
      ],
      "execution_count": 11,
      "outputs": [
        {
          "output_type": "stream",
          "text": [
            "['and', 'document', 'first', 'is', 'one', 'second', 'the', 'third', 'this']\n",
            "[[0 1 1 1 0 0 1 0 1]\n",
            " [0 2 0 1 0 1 1 0 1]\n",
            " [1 0 0 1 1 0 1 1 1]\n",
            " [0 1 1 1 0 0 1 0 1]]\n"
          ],
          "name": "stdout"
        }
      ]
    },
    {
      "cell_type": "markdown",
      "metadata": {
        "colab_type": "text",
        "id": "PE0-XzS9KqQT"
      },
      "source": [
        "\n",
        "- Words are identified by their ids\n",
        "- Non-zero means a word occurs\n",
        "- The value, is the number of times the word occurs in a sentence"
      ]
    },
    {
      "cell_type": "code",
      "metadata": {
        "colab_type": "code",
        "id": "CQXI6Zb-KqQV",
        "outputId": "b26fb620-0d83-406a-a5a3-299c93a2cb20",
        "colab": {
          "base_uri": "https://localhost:8080/",
          "height": 52
        }
      },
      "source": [
        "vectorizer.transform(['This is the first document', 'is document the first this']).toarray()"
      ],
      "execution_count": 12,
      "outputs": [
        {
          "output_type": "execute_result",
          "data": {
            "text/plain": [
              "array([[0, 1, 1, 1, 0, 0, 1, 0, 1],\n",
              "       [0, 1, 1, 1, 0, 0, 1, 0, 1]])"
            ]
          },
          "metadata": {
            "tags": []
          },
          "execution_count": 12
        }
      ]
    },
    {
      "cell_type": "markdown",
      "metadata": {
        "colab_type": "text",
        "id": "KUtSI3qKKqQd"
      },
      "source": [
        "- order does not matter! Recall the example with Jane ;-)\n",
        "- words like 'and, the' matter the same with words like 'super, great, ..'. This is a limitation. \n",
        "- tf-idf (term frequence, inverse document frequency) is an heuristic that can get us far!\n",
        "\n",
        "$tf_{i,j}\\times\\log\\frac{N}{df_i}$\n",
        "\n",
        "where\n",
        "\n",
        "$tf_{i,j}$ is number of times the term $i$ appears in document $j$, $df_i$ is the document frequency in the full collection of documents and $N$ is the number of available documents."
      ]
    },
    {
      "cell_type": "code",
      "metadata": {
        "colab_type": "code",
        "id": "dqL2Nl-eKqQf",
        "outputId": "92723a71-bf89-4088-dc19-5317f9869b61",
        "colab": {
          "base_uri": "https://localhost:8080/",
          "height": 176
        }
      },
      "source": [
        "from sklearn.feature_extraction.text import TfidfVectorizer\n",
        "corpus = ['This is the first document.',\n",
        "'This document is the second document.',\n",
        "'And this is the third one.',\n",
        "'Is this the first document?']\n",
        "\n",
        "vectorizer = TfidfVectorizer()\n",
        "X = vectorizer.fit_transform(corpus)\n",
        "print(vectorizer.get_feature_names())\n",
        "print(X.toarray())"
      ],
      "execution_count": 13,
      "outputs": [
        {
          "output_type": "stream",
          "text": [
            "['and', 'document', 'first', 'is', 'one', 'second', 'the', 'third', 'this']\n",
            "[[0.         0.46979139 0.58028582 0.38408524 0.         0.\n",
            "  0.38408524 0.         0.38408524]\n",
            " [0.         0.6876236  0.         0.28108867 0.         0.53864762\n",
            "  0.28108867 0.         0.28108867]\n",
            " [0.51184851 0.         0.         0.26710379 0.51184851 0.\n",
            "  0.26710379 0.51184851 0.26710379]\n",
            " [0.         0.46979139 0.58028582 0.38408524 0.         0.\n",
            "  0.38408524 0.         0.38408524]]\n"
          ],
          "name": "stdout"
        }
      ]
    },
    {
      "cell_type": "markdown",
      "metadata": {
        "colab_type": "text",
        "id": "eo2hvI49KqQm"
      },
      "source": [
        "## Beyond single words: N-grams and Character-grams\n",
        "\n",
        "Other tricks and tips: \n",
        "- Recall text is a sequence of symbols. We may care for characters instead of words (think typos) \n",
        "- We may care for longer sequences that single words: New York, not great, .. "
      ]
    },
    {
      "cell_type": "code",
      "metadata": {
        "colab_type": "code",
        "id": "3CB6cHvsKqQo",
        "outputId": "440cbe5d-ecac-46ed-cc18-4d4bfb7c1b8d",
        "colab": {
          "base_uri": "https://localhost:8080/",
          "height": 105
        }
      },
      "source": [
        "# Character grams\n",
        "\n",
        "vectorizer = CountVectorizer(analyzer='char', ngram_range=(1,1)) # This creates character-grams of size 1\n",
        "X = vectorizer.fit_transform(corpus)\n",
        "print(vectorizer.get_feature_names())\n",
        "print(X.toarray())"
      ],
      "execution_count": 14,
      "outputs": [
        {
          "output_type": "stream",
          "text": [
            "[' ', '.', '?', 'a', 'c', 'd', 'e', 'f', 'h', 'i', 'm', 'n', 'o', 'r', 's', 't', 'u']\n",
            "[[4 1 0 0 1 1 2 1 2 3 1 1 1 1 3 4 1]\n",
            " [5 1 0 0 3 3 4 0 2 2 2 3 3 0 3 4 2]\n",
            " [5 1 0 1 0 2 2 0 3 3 0 2 1 1 2 3 0]\n",
            " [4 0 1 0 1 1 2 1 2 3 1 1 1 1 3 4 1]]\n"
          ],
          "name": "stdout"
        }
      ]
    },
    {
      "cell_type": "markdown",
      "metadata": {
        "colab_type": "text",
        "id": "cn-X1KOUKqQx"
      },
      "source": [
        "N-grams are sequences of *objects*. Here, objects, are either charactets sequences or word sequences. For character sequences for example:\n",
        "\n",
        "<img src=\"https://github.com/ioannispartalas/CrossLingual-NLP-AMLD2020/blob/master/data/images/ngrams.png?raw=1\">\n",
        "\n",
        "In this figure notice the sliding window of size 3. While moving from left to right, it generates the possible sequences that will be used to populate the vector representations. Due to the fact that the window is of size 3, the method will generate character 3-grams. If, instead of character in the figure, we were using words, we would be generating word 3-grams. \n",
        "\n",
        "**Question**: can you think of a limitation of word 3-grams, 4-grams, 5-grams etc.?\n",
        "\n",
        "**Exercise**: how to get these sequences in Python (in an elegant way)?"
      ]
    },
    {
      "cell_type": "code",
      "metadata": {
        "colab_type": "code",
        "id": "cRrqNh1NKqQ0",
        "outputId": "b4ecb74f-9fdf-43e0-d226-ff446c39ac5c",
        "colab": {
          "base_uri": "https://localhost:8080/",
          "height": 266
        }
      },
      "source": [
        "# N-grams (can be either char-grams or word-grams)\n",
        "vectorizer = CountVectorizer(analyzer='char', ngram_range=(2,3)) # This creates character-grams of sizes 2 and 3\n",
        "X = vectorizer.fit_transform(corpus)\n",
        "print(vectorizer.get_feature_names())\n",
        "print(X.toarray())"
      ],
      "execution_count": 16,
      "outputs": [
        {
          "output_type": "stream",
          "text": [
            "[' d', ' do', ' f', ' fi', ' i', ' is', ' o', ' on', ' s', ' se', ' t', ' th', 'an', 'and', 'co', 'con', 'cu', 'cum', 'd ', 'd d', 'd o', 'd t', 'do', 'doc', 'e ', 'e f', 'e s', 'e t', 'e.', 'ec', 'eco', 'en', 'ent', 'fi', 'fir', 'he', 'he ', 'hi', 'hir', 'his', 'ir', 'ird', 'irs', 'is', 'is ', 'me', 'men', 'nd', 'nd ', 'ne', 'ne.', 'nt', 'nt ', 'nt.', 'nt?', 'oc', 'ocu', 'on', 'ond', 'one', 'rd', 'rd ', 'rs', 'rst', 's ', 's d', 's i', 's t', 'se', 'sec', 'st', 'st ', 't ', 't d', 't i', 't.', 't?', 'th', 'the', 'thi', 'um', 'ume']\n",
            "[[1 1 1 1 1 1 0 0 0 0 1 1 0 0 0 0 1 1 0 0 0 0 1 1 1 1 0 0 0 0 0 1 1 1 1 1\n",
            "  1 1 0 1 1 0 1 2 2 1 1 0 0 0 0 1 0 1 0 1 1 0 0 0 0 0 1 1 2 0 1 1 0 0 1 1\n",
            "  1 1 0 1 0 2 1 1 1 1]\n",
            " [2 2 0 0 1 1 0 0 1 1 1 1 0 0 1 1 2 2 1 1 0 0 2 2 1 0 1 0 0 1 1 2 2 0 0 1\n",
            "  1 1 0 1 0 0 0 2 2 2 2 1 1 0 0 2 1 1 0 2 2 1 1 0 0 0 0 0 2 1 0 1 1 1 0 0\n",
            "  1 0 1 1 0 2 1 1 2 2]\n",
            " [0 0 0 0 1 1 1 1 0 0 3 3 1 1 0 0 0 0 2 0 1 1 0 0 1 0 0 1 1 0 0 0 0 0 0 1\n",
            "  1 2 1 1 1 1 0 2 2 0 0 1 1 1 1 0 0 0 0 0 0 1 0 1 1 1 0 0 2 0 1 1 0 0 0 0\n",
            "  0 0 0 0 0 3 1 2 0 0]\n",
            " [1 1 1 1 0 0 0 0 0 0 2 2 0 0 0 0 1 1 0 0 0 0 1 1 1 1 0 0 0 0 0 1 1 1 1 1\n",
            "  1 1 0 1 1 0 1 2 2 1 1 0 0 0 0 1 0 0 1 1 1 0 0 0 0 0 1 1 2 0 0 2 0 0 1 1\n",
            "  1 1 0 0 1 2 1 1 1 1]]\n"
          ],
          "name": "stdout"
        }
      ]
    },
    {
      "cell_type": "markdown",
      "metadata": {
        "colab_type": "text",
        "id": "3YcUkxRjKqQ5"
      },
      "source": [
        "# Dense Representations\n",
        "\n",
        "All of the above techniques have a common limitation. The do not encode semantics! \n",
        "This means that the vector for `amazing` is completely disimilar from the vector of `great` and the of vector `Laussane`. \n",
        "Can we do better?\n",
        "The answer is yes! Enter, word embeddings. \n",
        "Dense word representation, that can encode the meaning! \n",
        "\n",
        "<img src=\"https://github.com/ioannispartalas/CrossLingual-NLP-AMLD2020/blob/master/data/images/word2vec.png?raw=1\" width=\"600\">"
      ]
    },
    {
      "cell_type": "code",
      "metadata": {
        "colab_type": "code",
        "id": "UNJ8gO8IKqQ6",
        "colab": {}
      },
      "source": [
        "import numpy as np\n",
        "from sklearn.manifold import TSNE\n",
        "\n",
        "# For more information of TSNE: https://scikit-learn.org/stable/modules/generated/sklearn.manifold.TSNE.html\n",
        "# For more information on GloVe: https://nlp.stanford.edu/projects/glove/\n",
        "\n",
        "#vectors = open('../data/glove_excerpt.txt').read().strip().split('\\n')\n",
        "vectors = open(workdir + '/data/glove_excerpt.txt').read().strip().split('\\n')\n",
        "vectors = {line.split()[0]:np.array(line.split()[1:]).astype(float) for line in vectors}"
      ],
      "execution_count": 0,
      "outputs": []
    },
    {
      "cell_type": "code",
      "metadata": {
        "colab_type": "code",
        "id": "pGquTwMSKqRB",
        "outputId": "c7d51232-75b1-4dbd-abfd-a1887327c053",
        "colab": {
          "base_uri": "https://localhost:8080/",
          "height": 374
        }
      },
      "source": [
        "import matplotlib.pyplot as plt\n",
        "# Let's visualize this, using TSNE, a methods that can reduce the dimensionality of the vectors\n",
        "labels = list(vectors.keys())\n",
        "tokens = list(vectors.values())\n",
        "\n",
        "tsne_model = TSNE(perplexity=1.5, n_components=2, init='pca', n_iter=2500, random_state=23)\n",
        "new_values = tsne_model.fit_transform(tokens)\n",
        "\n",
        "x = new_values[:,0]\n",
        "y = new_values[:,1]\n",
        "\n",
        "plt.figure(figsize=(7, 6)) \n",
        "for i in range(len(x)):\n",
        "    plt.scatter(x[i],y[i])\n",
        "    plt.annotate(labels[i],\n",
        "                 xy=(x[i], y[i]),\n",
        "                 xytext=(5, 2),\n",
        "                 textcoords='offset points',\n",
        "                 ha='right',\n",
        "                 va='bottom')\n"
      ],
      "execution_count": 18,
      "outputs": [
        {
          "output_type": "display_data",
          "data": {
            "image/png": "[encoded data removed]",
            "text/plain": [
              "<Figure size 504x432 with 1 Axes>"
            ]
          },
          "metadata": {
            "tags": [],
            "needs_background": "light"
          }
        }
      ]
    },
    {
      "cell_type": "markdown",
      "metadata": {
        "colab_type": "text",
        "id": "Lnoq9W0bKqRH"
      },
      "source": [
        "This is a great result for several reasons:\n",
        "- families of similar words are close between them\n",
        "- Some of them encode some syntax (magnificent and amazing) need similar vectors to approach their adverbs! "
      ]
    },
    {
      "cell_type": "markdown",
      "metadata": {
        "id": "Z1gAGaXiss1_",
        "colab_type": "text"
      },
      "source": [
        "## Learning Representations with Deep-NN Models\n",
        "\n",
        "More recently the introduction of deep neural models for building text representations provided us with capabilities of better language understading and subsequently solve easier text related tasks. Specifically, we can distinguish the so-called Transformers in three different classes with respect to the objective they optimize for: \n",
        "\n",
        "- Language Model: estimate the probability of a word given previous words.\n",
        "- Machine Translation: in a sequence mode predict the words in the target sentence.\n",
        "- Masked Language Model: predict the masked token."
      ]
    },
    {
      "cell_type": "markdown",
      "metadata": {
        "id": "wgaODSt1ss2A",
        "colab_type": "text"
      },
      "source": [
        "<img src=\"https://github.com/ioannispartalas/CrossLingual-NLP-AMLD2020/blob/master/data/images/lm_models.png?raw=1\">"
      ]
    },
    {
      "cell_type": "markdown",
      "metadata": {
        "colab_type": "text",
        "id": "rNnaY1-VKqRJ"
      },
      "source": [
        "# An Introduction to Cross-Lingual Embeddings"
      ]
    },
    {
      "cell_type": "markdown",
      "metadata": {
        "colab_type": "text",
        "id": "bHkm1AgiKqRN"
      },
      "source": [
        "\n",
        "* Thus far we dealt with word embedding created from English corpus (mono-lingual word embedding).\n",
        "* We however often need to scale up to market other than English.\n",
        "* Mono-lingual word embeddings are not quite useful here; it captures the particularities of the specific language but not others.\n",
        "* Training/maintaining/quality-controlling multiple word embeddings for each langauge market may not be desirable.\n",
        "* In this section we introduce the concept of **Cross-Ligual Word Embdeggins** which Jointly create ONE embedding for multiple languages."
      ]
    },
    {
      "cell_type": "markdown",
      "metadata": {
        "colab_type": "text",
        "id": "gFFcdUPDKqRO"
      },
      "source": [
        "## Cross-Lingual Word Embedding \n",
        "\n",
        "One embedding means that words from different languages are mapped into the common vectors space\n",
        "\n",
        "* Let's see how this look like. \n",
        "* For this exercise, we will use the **ConceptNet** multilingual embeddings for English and French. "
      ]
    },
    {
      "cell_type": "code",
      "metadata": {
        "colab_type": "code",
        "id": "ywh0cL6RKqRQ",
        "outputId": "0f2fe9f0-3e2c-4323-d8ad-95c09c06ec4c",
        "colab": {
          "base_uri": "https://localhost:8080/",
          "height": 72
        }
      },
      "source": [
        "import sys\n",
        "sys.path.append('..')\n",
        "from src.utils import load_embeddings,emb2numpy\n",
        "from IPython.display import Image\n",
        "import numpy as np\n",
        "from umap import UMAP\n",
        "import matplotlib.pyplot as plt\n",
        "import seaborn as sns"
      ],
      "execution_count": 19,
      "outputs": [
        {
          "output_type": "stream",
          "text": [
            "/usr/local/lib/python3.6/dist-packages/statsmodels/tools/_testing.py:19: FutureWarning: pandas.util.testing is deprecated. Use the functions in the public API at pandas.testing instead.\n",
            "  import pandas.util.testing as tm\n"
          ],
          "name": "stderr"
        }
      ]
    },
    {
      "cell_type": "code",
      "metadata": {
        "colab_type": "code",
        "id": "ooB-uKbhKqRX",
        "colab": {}
      },
      "source": [
        "# Create lists of example English and French words\n",
        "\n",
        "english_words = [\"room\",\"hotel\",\"towel\",\"book\",\"coffee\",\"chair\",\"glass\",\"pen\",\"shoe\",\"two\",\"amazing\"]\n",
        "french_words = [\"hôtel\",\"chambre\",\"livre\",\"café\",\"chaise\",\"serviette\",\"verre\",\"stylo\",\"chaussure\",\"deux\",\"fantastique\"]"
      ],
      "execution_count": 0,
      "outputs": []
    },
    {
      "cell_type": "code",
      "metadata": {
        "id": "IBPO68KpM1ZK",
        "colab_type": "code",
        "outputId": "fd10499d-398b-410d-d66b-c7bf9e0141bc",
        "colab": {
          "base_uri": "https://localhost:8080/",
          "height": 52
        }
      },
      "source": [
        "# Load pre-trained embedding\n",
        "\n",
        "# en_emb = load_embeddings(path=\"../concept_net_1706.300.en\", dimension=300,skip_header=False,vocab=english_words)\n",
        "# fr_emb = load_embeddings(path=\"../concept_net_1706.300.fr\", dimension=300,skip_header=False,vocab=french_words)\n",
        "\n",
        "en_emb = load_embeddings(path=workdir + \"concept_net_1706.300.en\", dimension=300,skip_header=False,vocab=english_words)\n",
        "fr_emb = load_embeddings(path=workdir + \"concept_net_1706.300.fr\", dimension=300,skip_header=False,vocab=french_words)"
      ],
      "execution_count": 21,
      "outputs": [
        {
          "output_type": "stream",
          "text": [
            "Loaded 11 vectors\n",
            "Loaded 11 vectors\n"
          ],
          "name": "stdout"
        }
      ]
    },
    {
      "cell_type": "code",
      "metadata": {
        "colab_type": "code",
        "id": "YsY5JTS2KqRd",
        "colab": {}
      },
      "source": [
        "# Put the vectors in arrays for processing\n",
        "\n",
        "words_en,V_en = emb2numpy(en_emb)\n",
        "words_fr,V_fr = emb2numpy(fr_emb)"
      ],
      "execution_count": 0,
      "outputs": []
    },
    {
      "cell_type": "code",
      "metadata": {
        "colab_type": "code",
        "id": "g0xuDxZnKqRh",
        "colab": {}
      },
      "source": [
        "vectors = np.concatenate((V_en,V_fr))\n",
        "all_words  = words_en+words_fr"
      ],
      "execution_count": 0,
      "outputs": []
    },
    {
      "cell_type": "code",
      "metadata": {
        "colab_type": "code",
        "id": "4_T_YWMMKqRl",
        "colab": {}
      },
      "source": [
        "# We project the 300d vectors to a 2d space for visualization\n",
        "V_umap = UMAP(n_neighbors=3,min_dist=0.6).fit_transform(vectors)\n"
      ],
      "execution_count": 0,
      "outputs": []
    },
    {
      "cell_type": "code",
      "metadata": {
        "colab_type": "code",
        "id": "Qd0I1LtSKqRo",
        "outputId": "0a744924-e775-4137-d363-2598219241ad",
        "colab": {
          "base_uri": "https://localhost:8080/",
          "height": 388
        }
      },
      "source": [
        "sns.set_context(\"talk\")\n",
        "\n",
        "fig= plt.figure(figsize=(10,6))\n",
        "\n",
        "plt.scatter(V_umap[:, 0], V_umap[:, 1])\n",
        "for i, word in enumerate(all_words):\n",
        "    plt.annotate(word, xy=(V_umap[i, 0], V_umap[i, 1]))\n",
        "plt.show()"
      ],
      "execution_count": 25,
      "outputs": [
        {
          "output_type": "display_data",
          "data": {
            "image/png": "[encoded data removed]",
            "text/plain": [
              "<Figure size 720x432 with 1 Axes>"
            ]
          },
          "metadata": {
            "tags": [],
            "needs_background": "light"
          }
        }
      ]
    },
    {
      "cell_type": "markdown",
      "metadata": {
        "colab_type": "text",
        "id": "12fc6__NKqRr"
      },
      "source": [
        "* From this visualization, you can see the mapping preservs words' semantic meanings \n",
        "* Observe that **the words from the different languages but similar meanings are close** in the embeddings projection."
      ]
    },
    {
      "cell_type": "markdown",
      "metadata": {
        "id": "f76Eg6DlbyVm",
        "colab_type": "text"
      },
      "source": [
        "## How these word embeddings are created?\n",
        "\n",
        "Word embeddings are often created once and used for downstream ML model training (as a tools for feature transformation). Many open souce embeddings are readily available and as ML practioner, you may rarely have occasion to create embeddings yourself. \n",
        "\n",
        "We will though take a bit closer look on how those embedding are created in this section"
      ]
    },
    {
      "cell_type": "markdown",
      "metadata": {
        "id": "LTrkHbHIeJ95",
        "colab_type": "text"
      },
      "source": [
        "* Several methods for learning such cross-lingual embeddings have been proposed recently. \n",
        "* They most straightforward way is to learn mono-lingual embeddings separately, then post-hoc align using some supervision \n",
        "* The type of supervision can vary from parallel sentences (for example, parallel translation) to cheaper signals like for example bilingual dictionaries.\n",
        "\n",
        "The following figure presents schematically the approach of mono-lingual mapping."
      ]
    },
    {
      "cell_type": "markdown",
      "metadata": {
        "colab_type": "text",
        "id": "5V3bPXhdKqRs"
      },
      "source": [
        "\n",
        "![](https://github.com/ioannispartalas/CrossLingual-NLP-AMLD2020/blob/master/data/images/alignment.png?raw=1)"
      ]
    },
    {
      "cell_type": "markdown",
      "metadata": {
        "colab_type": "text",
        "id": "vLQpTmnCKqRt"
      },
      "source": [
        "What the \"supervision\" over the alignement? This is really wehre research efforts goes in. One way is to learn **linear projection that maps one embedding to the other** \n",
        "\n",
        "1. Train word embeddings separately.\n",
        "2. Using bilingual dictionary, pair up word vectors from one language (say, English) to the other (say, French). This is the training data\n",
        "3. Then, train a linear projection function by minimizing the distance between all pairs.\n",
        "4. The method can be genealized for more than 2 languages.\n",
        "\n",
        "![](https://github.com/ioannispartalas/CrossLingual-NLP-AMLD2020/blob/master/data/images/bilingual_alignement.png?raw=1)"
      ]
    },
    {
      "cell_type": "markdown",
      "metadata": {
        "colab_type": "text",
        "id": "x5uZmRruKqRv"
      },
      "source": [
        "Other recent methods do not require any seed dictionaries and induce in an iterative procedure one that is used to learn the projections. For a comprehensive study one can refer to [ Ruder et al., A Survey Of Cross-lingual Word Embedding Models](https://arxiv.org/abs/1706.04902)"
      ]
    },
    {
      "cell_type": "markdown",
      "metadata": {
        "colab_type": "text",
        "id": "z7JSrGcJKqRy"
      },
      "source": [
        "## Cross-Lingual Sentence Embeddings\n",
        "\n",
        "* Word embedding is cool and useful, but it's a bit unsettling\n",
        "* It ignores word order, but we know that order of words matters. \n",
        "* It does not consider that words change their meanings depends on the contexts\n",
        "* In short, they could miss salient information as they neglect **linguistic dependecies**. \n",
        "* How can we capture dependency? \n"
      ]
    },
    {
      "cell_type": "markdown",
      "metadata": {
        "id": "47xjiIKFy47P",
        "colab_type": "text"
      },
      "source": [
        "### LASER Sequence Encoder\n",
        "\n",
        "* Some type of NN models, like LSTM (a type of RNN) or models with attention, can be used to encode **sequence of textual segments** such as sentences.\n",
        "* Recently researchers have made significant progress in devising such NN encoderes which could dynamically create a vector representation for a given sentence.\n",
        "* In a recent work, Facebook AI released a multi-lingual sentence encoder trained over sentences from 93 languages. [LASER](https://github.com/facebookresearch/LASER) (Language-Agnostic Sentence Representations) \n",
        "* What this means? Now we can create **dense vector representation of any sentence in any langauges** in common embedding space, **with one encoder**"
      ]
    },
    {
      "cell_type": "markdown",
      "metadata": {
        "id": "xvAoryhu4MEF",
        "colab_type": "text"
      },
      "source": [
        "### How this sentence encoder is trained?\n",
        "\n",
        "A few things about current state of sentence encoder research: \n",
        "* it is hugely expensive to train. It most definitely requires huge parallel corpora (Laser used over 223 million parallel sentences). \n",
        "* Also computationally intensive (Laser took over 5 days to fully train). \n",
        "* Luckly, as are Word embeddings, several well-regarded open souce encoders are currently available. We can use them for downstream predictive task faily easily."
      ]
    },
    {
      "cell_type": "markdown",
      "metadata": {
        "colab_type": "text",
        "id": "kFJeyzIHKqRz"
      },
      "source": [
        "\n",
        "As a ML practioner you would not often train one from scratch. Here is how it work in a nutshell.\n",
        "\n",
        "* Traiing goes essentially like a translation model. \n",
        "\n",
        "![](https://github.com/ioannispartalas/CrossLingual-NLP-AMLD2020/blob/master/data/images/laser.png?raw=1)\n",
        "\n",
        "* The model is Bi-directional LSTM (BiLSTM) model which generate a sequence in a target language given a source sentence. (figure from [Artexte and Schwenk, Massively's 2019 TACL paper](https://arxiv.org/abs/1812.10464)). Note that since this is translation model, it comes in 2 parts: encoder and decoder.\n",
        "* The model is trained on aligned corpora. \n",
        "* Once the model is fully trained, discard a decoder. Use Encoder (and max-pulling step) for future multi-lingual sentence encoding purpose. \n",
        "\n",
        "(Note that current state-of-art models use attention mechanism rather than BiLSTM.)"
      ]
    },
    {
      "cell_type": "markdown",
      "metadata": {
        "colab_type": "text",
        "id": "FwhsUwnNKqR1"
      },
      "source": [
        "### How the sentence encodings look like? \n",
        "\n",
        "Let's use LASER and see how well can embed a few parallel sentences in English, French and Greek. For this, we will use the Doc2Laser class."
      ]
    },
    {
      "cell_type": "code",
      "metadata": {
        "colab_type": "code",
        "id": "MFLwkpPrKqR2",
        "colab": {}
      },
      "source": [
        "import sys\n",
        "sys.path.append(\"..\")\n",
        "from src.models import *"
      ],
      "execution_count": 0,
      "outputs": []
    },
    {
      "cell_type": "code",
      "metadata": {
        "colab_type": "code",
        "id": "LUqdUD-eKqR5",
        "outputId": "59d3bd7e-cd52-4fe4-86a8-3dfc8b9f2619",
        "colab": {
          "base_uri": "https://localhost:8080/",
          "height": 140
        }
      },
      "source": [
        "print(Doc2Laser.__doc__)"
      ],
      "execution_count": 4,
      "outputs": [
        {
          "output_type": "stream",
          "text": [
            "Transform raw documents to their LASER representations.\n",
            "    \n",
            "    Parameters:\n",
            "    -------------\n",
            "    lang: string, the language to encode\n",
            "    cpu: boolean, whether to use cpu of gpu\n",
            "    \n"
          ],
          "name": "stdout"
        }
      ]
    },
    {
      "cell_type": "code",
      "metadata": {
        "colab_type": "code",
        "id": "7Ts_HfX3KqR9",
        "outputId": "ac7618a9-f5e6-471a-ffdb-25f3ffd1f5e6",
        "colab": {
          "base_uri": "https://localhost:8080/",
          "height": 105
        }
      },
      "source": [
        "# English\n",
        "en_sentences = [\"This is a nice hotel.\",\n",
        "                \"The bathroom was clean\",\n",
        "                \"The dog is brown\",\n",
        "                \"I will call you\",\n",
        "               \"Not very far from the center\"]\n",
        "\n",
        "# define a transformer -- put cpu=False to turn on GPU option. Goes faster\n",
        "doc2laser_transformer = Doc2Laser(\"en\")\n",
        "\n",
        "# Get the representation of the sentences\n",
        "X_en = doc2laser_transformer.transform(en_sentences)"
      ],
      "execution_count": 5,
      "outputs": [
        {
          "output_type": "stream",
          "text": [
            " - Encoder: loading /root/projects/LASER/models/bilstm.93langs.2018-12-26.pt\n",
            " - Tokenizer: temp_in_docs.txt in language en  \n",
            " - fast BPE: processing tok\n",
            " - Encoder: bpe to out.raw\n",
            " - Encoder: 5 sentences in 0s\n"
          ],
          "name": "stdout"
        }
      ]
    },
    {
      "cell_type": "code",
      "metadata": {
        "colab_type": "code",
        "id": "J0n9jzqOKqSC",
        "outputId": "67191a18-4db7-4b4b-f874-6bc88d96feb6",
        "colab": {
          "base_uri": "https://localhost:8080/"
        }
      },
      "source": [
        "# French\n",
        "fr_sentences = [\"Celui-ci était un hôtel magnifique\",\n",
        "                \"La salle de bain était propre\",\n",
        "                \"Le chien est brun\",\n",
        "                \"Je t'appelle\",\n",
        "               \"Pas très loin du centre\"]\n",
        "\n",
        "# Change the language in the transformer\n",
        "doc2laser_transformer.set_params(lang=\"fr\")\n",
        "X_fr = doc2laser_transformer.transform(fr_sentences)"
      ],
      "execution_count": 6,
      "outputs": [
        {
          "output_type": "stream",
          "text": [
            " - Encoder: loading /root/projects/LASER/models/bilstm.93langs.2018-12-26.pt\n",
            " - Tokenizer: temp_in_docs.txt in language fr  \n",
            " - fast BPE: processing tok\n",
            " - Encoder: bpe to out.raw\n",
            " - Encoder: 5 sentences in 0s\n"
          ],
          "name": "stdout"
        },
        {
          "output_type": "stream",
          "text": [
            "/pytorch/aten/src/ATen/native/RangeFactories.cpp:195: UserWarning: The number of elements in the out tensor of shape [7] is 7 which does not match the computed number of elements 9. Note that this may occur as a result of rounding error. The out tensor will be resized to a tensor of shape (9,).\n"
          ],
          "name": "stderr"
        }
      ]
    },
    {
      "cell_type": "code",
      "metadata": {
        "colab_type": "code",
        "id": "PssbZDwcKqSF",
        "outputId": "f34a3be0-42dc-47c7-f990-d1ec423c0cc8",
        "colab": {
          "base_uri": "https://localhost:8080/",
          "height": 143
        }
      },
      "source": [
        "# Greece\n",
        "\n",
        "gr_sentences = [\"Το ξενοδοχείο ήταν υπέροχο\",\n",
        "                \"Η τουαλέτα ήταν καθαρή\",\n",
        "                \"Ο σκύλος είναι καφέ\",\n",
        "                \"Σε παίρνω τηλέφωνο\",\n",
        "                \"Όχι πολύ μακριά από το κέντρο\"]\n",
        "# Change the language in the transformer\n",
        "doc2laser_transformer.set_params(lang=\"el\", cpu=False)\n",
        "X_gr = doc2laser_transformer.transform(gr_sentences)"
      ],
      "execution_count": 33,
      "outputs": [
        {
          "output_type": "stream",
          "text": [
            " - Encoder: loading /root/projects/LASER/models/bilstm.93langs.2018-12-26.pt\n",
            " - Tokenizer: temp_in_docs.txt in language el  \n",
            " - fast BPE: processing tok\n",
            " - Encoder: bpe to out.raw\n",
            " - Encoder: 5 sentences in 0s\n"
          ],
          "name": "stdout"
        },
        {
          "output_type": "stream",
          "text": [
            "/pytorch/aten/src/ATen/native/RangeFactories.cpp:195: UserWarning: The number of elements in the out tensor of shape [9] is 9 which does not match the computed number of elements 10. Note that this may occur as a result of rounding error. The out tensor will be resized to a tensor of shape (10,).\n"
          ],
          "name": "stderr"
        }
      ]
    },
    {
      "cell_type": "markdown",
      "metadata": {
        "colab_type": "text",
        "id": "_z2UrMGEKqSJ"
      },
      "source": [
        "Let's project the sentence representations now in a 2d space and check if the parallel sentences in the three languages are close."
      ]
    },
    {
      "cell_type": "code",
      "metadata": {
        "id": "i6LZS5AS-MPU",
        "colab_type": "code",
        "colab": {
          "base_uri": "https://localhost:8080/"
        },
        "outputId": "3ff6e0db-6425-4c40-ba3d-112a2eeddca0"
      },
      "source": [
        "V_umap = UMAP(n_neighbors=5,min_dist=0.2).fit_transform(np.concatenate((X_en,X_fr)))\n",
        "\n",
        "fig= plt.figure(figsize=(12,6))\n",
        "\n",
        "plt.scatter(V_umap[:, 0], V_umap[:, 1])\n",
        "for i, word in enumerate(en_sentences+fr_sentences):\n",
        "    plt.annotate(word, xy=(V_umap[i, 0], V_umap[i, 1]))\n",
        "plt.show()"
      ],
      "execution_count": 37,
      "outputs": [
        {
          "output_type": "display_data",
          "data": {
            "image/png": "[encoded data removed]",
            "text/plain": [
              "<Figure size 864x432 with 1 Axes>"
            ]
          },
          "metadata": {
            "tags": [],
            "needs_background": "light"
          }
        }
      ]
    },
    {
      "cell_type": "code",
      "metadata": {
        "colab_type": "code",
        "id": "yvJFV-RnKqSj",
        "outputId": "bc627b36-a5e7-4db6-a5a7-9c4fc65d2eb0",
        "colab": {
          "base_uri": "https://localhost:8080/",
          "height": 360
        }
      },
      "source": [
        "V_umap = UMAP(n_neighbors=5,min_dist=0.2).fit_transform(np.concatenate((X_en,X_fr,X_gr)))\n",
        "\n",
        "fig= plt.figure(figsize=(12,6))\n",
        "\n",
        "#plt.scatter(V_umap[:, 0], V_umap[:, 1])\n",
        "plt.scatter(V_umap[:, 0], V_umap[:, 1])\n",
        "for i, word in enumerate(en_sentences+fr_sentences+gr_sentences):\n",
        "    plt.annotate(word, xy=(V_umap[i, 0], V_umap[i, 1]))\n",
        "plt.show()"
      ],
      "execution_count": 36,
      "outputs": [
        {
          "output_type": "display_data",
          "data": {
            "image/png": "[encoded data removed]",
            "text/plain": [
              "<Figure size 864x432 with 1 Axes>"
            ]
          },
          "metadata": {
            "tags": [],
            "needs_background": "light"
          }
        }
      ]
    },
    {
      "cell_type": "markdown",
      "metadata": {
        "colab_type": "text",
        "id": "pjeUc14SKqSq"
      },
      "source": [
        "We can observe that the parallel sentences are close to the embedding space which means that the model can capture the semantic in a single latent multi-lingual space. "
      ]
    },
    {
      "cell_type": "markdown",
      "metadata": {
        "colab_type": "text",
        "id": "y4gfSqOtKqSs"
      },
      "source": [
        "***Exercise:*** Try to add few more parallel sentence in other languages and project them with the same way."
      ]
    },
    {
      "cell_type": "markdown",
      "metadata": {
        "colab_type": "text",
        "id": "2TiV2i9dKqS2"
      },
      "source": [
        "# Cross-lingual Document Classification"
      ]
    },
    {
      "cell_type": "markdown",
      "metadata": {
        "colab_type": "text",
        "id": "dp5AQlhRKqS5"
      },
      "source": [
        "## Problem description\n",
        "\n",
        "Cross-lingual document classification (CLDC) is the text mining problem where we are given:\n",
        "- labeled documents for training in a source language $\\ell_1$, and \n",
        "- test documents written in a target language $\\ell_2$. \n",
        "\n",
        "For example, the training documents are written in English, and the test documents are written in French. \n",
        "\n",
        "\n",
        "CLDC is an interesting problem. The hope is that we can use resource-rich languages to train models that can be applied to resource-deprived languages. This would result in transferring knowledge from one language to another. \n",
        "There are several methods that can be used in this context. In this workshop we start from naive approaches and progressively introduce more complex solutions. \n",
        "\n",
        "The most naive solution is to ignore the fact the training and test documents are written in different languages.  "
      ]
    },
    {
      "cell_type": "code",
      "metadata": {
        "colab_type": "code",
        "id": "0X2djheGKqS8",
        "colab": {}
      },
      "source": [
        "import pandas as pd\n",
        "from sklearn.metrics import accuracy_score,f1_score\n",
        "from sklearn.feature_extraction.text import CountVectorizer, TfidfVectorizer\n",
        "from sklearn.linear_model import LogisticRegression\n",
        "from sklearn.pipeline import Pipeline, make_pipeline\n",
        "from sklearn.dummy import DummyClassifier\n",
        "from sklearn.neighbors import KNeighborsClassifier\n",
        "\n",
        "from sklearn.base import BaseEstimator, ClassifierMixin\n",
        "from sklearn.utils.validation import check_X_y\n",
        "from sklearn.utils.multiclass import unique_labels\n",
        "from sklearn.feature_extraction.text import CountVectorizer\n",
        "import seaborn as sns\n",
        "from prettytable import PrettyTable\n",
        "\n",
        "\n",
        "import sys\n",
        "sys.path.append(\"..\")\n",
        "\n",
        "from collections import Counter\n",
        "from src.models import *\n",
        "from src.utils import *\n",
        "from src.dataset import *\n"
      ],
      "execution_count": 0,
      "outputs": []
    },
    {
      "cell_type": "markdown",
      "metadata": {
        "colab_type": "text",
        "id": "miKup2VyKqTG"
      },
      "source": [
        "<img src=\"https://github.com/ioannispartalas/CrossLingual-NLP-AMLD2020/blob/master/data/images/classes.png?raw=1\" width=600>\n",
        "\n",
        "1. Dataset: holds the data of sources and target language\n",
        "2. System: This is a set of steps: Does fit, predict. Can be in the form of a pipeline also\n",
        "3. Experiment: Given a Dataset and a System it fits, predicts and reports evaluation scores"
      ]
    },
    {
      "cell_type": "markdown",
      "metadata": {
        "colab_type": "text",
        "id": "LdV-ysScKqTJ"
      },
      "source": [
        "For this workshop we will use a dataset from the [SemEval](http://alt.qcri.org/semeval2015/) workshop for the Sentiment Analysis task. While the tasks have three classes, that is **Positive, Negative, Neutral**, we will use only two classes in order to simplify it. So, let's load the data for a pair of languages and check a few statistics."
      ]
    },
    {
      "cell_type": "code",
      "metadata": {
        "colab_type": "code",
        "id": "q21T9mlMKqTM",
        "outputId": "5fd74c89-1e8b-4b18-ac9a-fc9a26fe3d0b",
        "colab": {
          "base_uri": "https://localhost:8080/",
          "height": 248
        }
      },
      "source": [
        "# dataset = Dataset(\"../data/raw/\",\"en\", \"es\")\n",
        "dataset = Dataset(workdir + \"data/raw/\",\"en\", \"es\")\n",
        "\n",
        "dataset.load_data()\n",
        "#To check the arguments of the function\n",
        "#print(dataset.load_cl_embeddings.__doc__)\n",
        "#dataset.load_cl_embeddings(\"../\",300,False)\n",
        "dataset.load_cl_embeddings(workdir,300,False)\n"
      ],
      "execution_count": 0,
      "outputs": [
        {
          "output_type": "stream",
          "text": [
            "\n",
            "Training data\n",
            "==========\n",
            "Training Data Shape:  (1635, 2)\n",
            "Class distribution:  {'positive': 1114, 'negative': 521}\n",
            "\n",
            "Training data\n",
            "==========\n",
            "Training Data Shape:  (644, 2)\n",
            "Class distribution:  {'positive': 455, 'negative': 189}\n",
            "Loaded 3315 vectors\n",
            "Loaded 1287 vectors\n"
          ],
          "name": "stdout"
        }
      ]
    },
    {
      "cell_type": "code",
      "metadata": {
        "colab_type": "code",
        "id": "QT-n2F8HKqTu",
        "outputId": "f70e35e6-f9ea-43c8-e0eb-b264a9003590",
        "colab": {
          "base_uri": "https://localhost:8080/",
          "height": 316
        }
      },
      "source": [
        "# Plot the counts on the classes for the source language\n",
        "sns.countplot(dataset.y_train,order=[\"negative\",\"positive\"])"
      ],
      "execution_count": 0,
      "outputs": [
        {
          "output_type": "execute_result",
          "data": {
            "text/plain": [
              "<matplotlib.axes._subplots.AxesSubplot at 0x7fd8d8534c88>"
            ]
          },
          "metadata": {
            "tags": []
          },
          "execution_count": 37
        },
        {
          "output_type": "display_data",
          "data": {
            "image/png": "[encoded data removed]",
            "text/plain": [
              "<Figure size 432x288 with 1 Axes>"
            ]
          },
          "metadata": {
            "tags": [],
            "needs_background": "light"
          }
        }
      ]
    },
    {
      "cell_type": "code",
      "metadata": {
        "colab_type": "code",
        "id": "4pXuQPcpKqT6",
        "outputId": "a81498a8-8d78-42b2-cc5b-d480458acf9e",
        "colab": {
          "base_uri": "https://localhost:8080/",
          "height": 316
        }
      },
      "source": [
        "# And for the Spanish dataset\n",
        "sns.countplot(dataset.y_test,order=[\"negative\",\"positive\"])"
      ],
      "execution_count": 0,
      "outputs": [
        {
          "output_type": "execute_result",
          "data": {
            "text/plain": [
              "<matplotlib.axes._subplots.AxesSubplot at 0x7fd8d85369e8>"
            ]
          },
          "metadata": {
            "tags": []
          },
          "execution_count": 38
        },
        {
          "output_type": "display_data",
          "data": {
            "image/png": "[encoded data removed]",
            "text/plain": [
              "<Figure size 432x288 with 1 Axes>"
            ]
          },
          "metadata": {
            "tags": [],
            "needs_background": "light"
          }
        }
      ]
    },
    {
      "cell_type": "markdown",
      "metadata": {
        "colab_type": "text",
        "id": "WyY8IZ3uKqT_"
      },
      "source": [
        "Observe that the datasets are unbalanced as we have much more positive comments that negative ones. We will start by establishing a few baselines and see how we can improve over them by leveraging cross-lingual word embeddings. We will start with a dummy classifier that will respect the distribution of the classes to generate some random predictions. "
      ]
    },
    {
      "cell_type": "code",
      "metadata": {
        "colab_type": "code",
        "id": "w56E2_mvKqUC",
        "outputId": "b2933400-2f36-43ee-aa80-1bfe324f6a7e",
        "colab": {
          "base_uri": "https://localhost:8080/",
          "height": 125
        }
      },
      "source": [
        "# Let's keep the scores of all the expriments in a table\n",
        "x = PrettyTable()\n",
        "\n",
        "x.field_names = [\"Model\", \"f-score\"]\n",
        "\n",
        "# Majority Class\n",
        "pipeline = Pipeline([('vectorizer', CountVectorizer()), \n",
        "                     ('classifier', DummyClassifier(\"stratified\"))])\n",
        "runner = Runner(pipeline, dataset)\n",
        "score = runner.eval_system()\n",
        "x.add_row([\"Dummy\", format_score(score)])\n",
        "print(x)"
      ],
      "execution_count": 0,
      "outputs": [
        {
          "output_type": "stream",
          "text": [
            "+-------+---------+\n",
            "| Model | f-score |\n",
            "+-------+---------+\n",
            "| Dummy |  68.69  |\n",
            "+-------+---------+\n"
          ],
          "name": "stdout"
        }
      ]
    },
    {
      "cell_type": "markdown",
      "metadata": {
        "colab_type": "text",
        "id": "bmYK4Ks7KqUR"
      },
      "source": [
        "We start with a model that just uses term frequencies in order to represent the documents. We expect that in cases where the source and target languages share a part of the vocabulary, for example in latin languages, this approach can potentially give descent results. We will just use unigrams for this exercice but of course you can alter this baseline in order to leverage character n-grams."
      ]
    },
    {
      "cell_type": "code",
      "metadata": {
        "colab_type": "code",
        "id": "f2s40EwIKqUh",
        "outputId": "811ccbbd-830d-4d1c-ea50-2dd2ee785ee9",
        "colab": {
          "base_uri": "https://localhost:8080/",
          "height": 143
        }
      },
      "source": [
        "# Logistic Regression on words\n",
        "pipeline = Pipeline([('vectorizer', CountVectorizer(lowercase=True)), \n",
        "                     ('classifier', LogisticRegression(solver=\"lbfgs\"))])\n",
        "runner = Runner(pipeline, dataset)\n",
        "score = runner.eval_system()\n",
        "x.add_row([\"LR unigrams\",format_score(score)])\n",
        "print(x)"
      ],
      "execution_count": 0,
      "outputs": [
        {
          "output_type": "stream",
          "text": [
            "+-------------+---------+\n",
            "|    Model    | f-score |\n",
            "+-------------+---------+\n",
            "|    Dummy    |  68.69  |\n",
            "| LR unigrams |  83.91  |\n",
            "+-------------+---------+\n"
          ],
          "name": "stdout"
        }
      ]
    },
    {
      "cell_type": "markdown",
      "metadata": {
        "colab_type": "text",
        "id": "v8J4jRfsKqU0"
      },
      "source": [
        "Let's see now how we can leverage the cross-lingual word embeddings in order to perform zero-shot learning. A simple but effective baseline consists of averaging the word embeddings in each document in order to come up with a document (or sentence) representation. We will do that by using a look-up table in order to pull the appropriate cross-linual word embeddings for each document as it is shown in the diagram:\n",
        "\n",
        "![](https://github.com/ioannispartalas/CrossLingual-NLP-AMLD2020/blob/master/data/images/vec_average.png?raw=1)"
      ]
    },
    {
      "cell_type": "markdown",
      "metadata": {
        "colab_type": "text",
        "id": "oRrsapJcKqU0"
      },
      "source": [
        "As we saw during the introduction we use a binary representation for the document terms which we use to perform a look-up in the embeddings matrix of size $V\\times d$, where $V$ is the size of the vocabulary and $d$ the dimension of the latent space, and pull the vectors. In the example we will pull three vectors. Finally, we will just calculate our document vector by just averaging the vectors. We will repeat this operation for each document in both the target and the source languages. Then we will follow the zero-shot learning framework and we will train a classifier on the source language and predict on the target language."
      ]
    },
    {
      "cell_type": "code",
      "metadata": {
        "colab_type": "code",
        "id": "SGsGu2WOKqU_",
        "colab": {}
      },
      "source": [
        "for name, myclf in zip(['Knn-nBow', 'LR-nBow'],[KNeighborsClassifier(n_neighbors=2), LogisticRegression(C=10, solver=\"lbfgs\")]):\n",
        "\n",
        "    avg_baseline = nBowClassifier(myclf,dataset.source_embeddings,dataset.target_embeddings)\n",
        "\n",
        "    pipeline = Pipeline([('vectorizer', CountVectorizer(lowercase=True,vocabulary=dataset.vocab_)), \n",
        "                         ('classifier', avg_baseline)])\n",
        "\n",
        "    runner = Runner(pipeline, dataset)\n",
        "    x.add_row([name, format_score(runner.eval_system())])\n",
        "    "
      ],
      "execution_count": 0,
      "outputs": []
    },
    {
      "cell_type": "code",
      "metadata": {
        "colab_type": "code",
        "id": "xQTx_vhyKqVI",
        "outputId": "d0b26045-9735-4772-a219-d8fb39b58352",
        "colab": {
          "base_uri": "https://localhost:8080/",
          "height": 178
        }
      },
      "source": [
        "print(x)"
      ],
      "execution_count": 0,
      "outputs": [
        {
          "output_type": "stream",
          "text": [
            "+-------------+---------+\n",
            "|    Model    | f-score |\n",
            "+-------------+---------+\n",
            "|    Dummy    |  68.69  |\n",
            "| LR unigrams |  83.91  |\n",
            "|   Knn-nBow  |  72.31  |\n",
            "|   LR-nBow   |  87.38  |\n",
            "+-------------+---------+\n"
          ],
          "name": "stdout"
        }
      ]
    },
    {
      "cell_type": "markdown",
      "metadata": {
        "colab_type": "text",
        "id": "cRzpaUeNKqVe"
      },
      "source": [
        "In the following model we will use the LASER representations in order to train the classifiers within the same framework."
      ]
    },
    {
      "cell_type": "code",
      "metadata": {
        "colab_type": "code",
        "id": "GH3_g755KqVg",
        "outputId": "e26da7ed-aba1-49dc-eebe-e1d7be57f2a5",
        "colab": {
          "base_uri": "https://localhost:8080/",
          "height": 424
        }
      },
      "source": [
        "for name, myclf in zip(['Knn-laser', 'LR-laser'],[KNeighborsClassifier(n_neighbors=2), LogisticRegression(C=10, solver=\"lbfgs\")]):\n",
        "    laser_clf = LASERClassifier(myclf, dataset.source_lang, dataset.target_lang)\n",
        "    pipeline = Pipeline([(\"doc2laser\",Doc2Laser()),('classifier', laser_clf)])\n",
        "    pipeline.set_params(doc2laser__lang=dataset.source_lang)\n",
        "    pipeline.fit(dataset.train,dataset.y_train)\n",
        "    runner = Runner(pipeline, dataset)\n",
        "\n",
        "    pipeline.set_params(doc2laser__lang=dataset.target_lang)\n",
        "    x.add_row([name, format_score(runner.eval_system(prefit=True))])"
      ],
      "execution_count": 0,
      "outputs": [
        {
          "output_type": "stream",
          "text": [
            " - Encoder: loading /root/projects/LASER/models/bilstm.93langs.2018-12-26.pt\n",
            " - Tokenizer: temp_in_docs.txt in language en  \n",
            " - fast BPE: processing tok\n",
            " - Encoder: bpe to out.raw\n"
          ],
          "name": "stdout"
        },
        {
          "output_type": "stream",
          "text": [
            "/pytorch/aten/src/ATen/native/RangeFactories.cpp:195: UserWarning: The number of elements in the out tensor of shape [10] is 10 which does not match the computed number of elements 108. Note that this may occur as a result of rounding error. The out tensor will be resized to a tensor of shape (108,).\n"
          ],
          "name": "stderr"
        },
        {
          "output_type": "stream",
          "text": [
            "\r - Encoder: 1635 sentences in 35s\n",
            " - Encoder: loading /root/projects/LASER/models/bilstm.93langs.2018-12-26.pt\n",
            " - Tokenizer: temp_in_docs.txt in language es  \n",
            " - fast BPE: processing tok\n",
            " - Encoder: bpe to out.raw\n"
          ],
          "name": "stdout"
        },
        {
          "output_type": "stream",
          "text": [
            "/pytorch/aten/src/ATen/native/RangeFactories.cpp:195: UserWarning: The number of elements in the out tensor of shape [108] is 108 which does not match the computed number of elements 209. Note that this may occur as a result of rounding error. The out tensor will be resized to a tensor of shape (209,).\n"
          ],
          "name": "stderr"
        },
        {
          "output_type": "stream",
          "text": [
            "\r - Encoder: 644 sentences in 17s\n",
            " - Encoder: loading /root/projects/LASER/models/bilstm.93langs.2018-12-26.pt\n",
            " - Tokenizer: temp_in_docs.txt in language en  \n",
            " - fast BPE: processing tok\n",
            " - Encoder: bpe to out.raw\n",
            " - Encoder: 1635 sentences in 33s\n",
            " - Encoder: loading /root/projects/LASER/models/bilstm.93langs.2018-12-26.pt\n",
            " - Tokenizer: temp_in_docs.txt in language es  \n",
            " - fast BPE: processing tok\n",
            " - Encoder: bpe to out.raw\n",
            " - Encoder: 644 sentences in 16s\n"
          ],
          "name": "stdout"
        }
      ]
    },
    {
      "cell_type": "code",
      "metadata": {
        "colab_type": "code",
        "id": "wyBme3i3KqVr",
        "outputId": "636e4859-3141-4641-d035-6c779c5c94e8",
        "colab": {
          "base_uri": "https://localhost:8080/",
          "height": 213
        }
      },
      "source": [
        "print(x)"
      ],
      "execution_count": 0,
      "outputs": [
        {
          "output_type": "stream",
          "text": [
            "+-------------+---------+\n",
            "|    Model    | f-score |\n",
            "+-------------+---------+\n",
            "|    Dummy    |  68.69  |\n",
            "| LR unigrams |  83.91  |\n",
            "|   Knn-nBow  |  72.31  |\n",
            "|   LR-nBow   |  87.38  |\n",
            "|  Knn-laser  |  85.05  |\n",
            "|   LR-laser  |  91.47  |\n",
            "+-------------+---------+\n"
          ],
          "name": "stdout"
        }
      ]
    },
    {
      "cell_type": "markdown",
      "metadata": {
        "colab_type": "text",
        "id": "jamZepetKqVy"
      },
      "source": [
        "We observe that the zero-shot learning using LASER representations can achieve state-of-the-art results in this pair of languages. \n",
        "\n",
        "***Exercises:*** \n",
        "\n",
        "* Use other pairs of languages and see the performance. For example, you can try to transfer from more distant languages like Russian.\n",
        "* Write a function in order to calculate all the pairs of (source,target) languages and compare the results.\n",
        "* Tune the classifier or use other type of models."
      ]
    },
    {
      "cell_type": "markdown",
      "metadata": {
        "colab_type": "text",
        "id": "qMKJFj6NKqV1"
      },
      "source": [
        "## Few-shot Learning\n",
        "\n",
        "On this notebook, we will work on a multilingual dataset containing sentences in six languages: english, dutch, spanish, russian, arabic and turkish. Every sentence of every language comes along a with sentiment label indicating *positive* or *negative* content. There is no sentence overlap between idioms. \n",
        "\n",
        "Working with the LASER multilinguale representation, we directly provide the sentence embedding for all languages. Every sentence is represented by a 1024 dimensional vector indicating its position in LASER."
      ]
    },
    {
      "cell_type": "code",
      "metadata": {
        "colab_type": "code",
        "id": "b6gF7VvHKqV4",
        "colab": {}
      },
      "source": [
        "import sys\n",
        "import numpy as np\n",
        "import pandas as pd\n",
        "from sklearn.linear_model import LogisticRegression\n",
        "from sklearn.metrics import f1_score, confusion_matrix\n",
        "from sklearn.model_selection import StratifiedKFold\n",
        "from sklearn.model_selection import cross_val_score\n",
        "sys.path.insert(1, workdir)\n",
        "\n",
        "from src.utils import load_training_languages, model_evaluation, get_statistics"
      ],
      "execution_count": 0,
      "outputs": []
    },
    {
      "cell_type": "markdown",
      "metadata": {
        "colab_type": "text",
        "id": "ldZjtvZdmEMz"
      },
      "source": [
        "The 3 following utility functions will be used in this notebook:\n",
        "\n",
        "- ```\n",
        "model_evaluation(model, [languages])\n",
        "```: evaluate the ```model``` over list of ```languages```. Returns [F1](https://en.wikipedia.org/wiki/F1_score) score, more suited for imbalanced dataset and [Confusion matrix](https://en.wikipedia.org/wiki/Confusion_matrix) to analyse model outputs in details.\n",
        "- ```x_train, y_train = load_training_languages([languages])```: Returns concatenated features and labels for languages specified in ```languages```.\n",
        "- ```get_statistics([languages]```: print out class population for languages specified in ```languages```."
      ]
    },
    {
      "cell_type": "code",
      "metadata": {
        "id": "smyeG_qQSvdk",
        "colab_type": "code",
        "outputId": "f76dad50-d0bd-4199-f6ac-d904465ab4b7",
        "colab": {
          "base_uri": "https://localhost:8080/",
          "height": 460
        }
      },
      "source": [
        "all_languages = ['en','es','nl','ru','ar','tr']\n",
        "get_statistics(all_languages)"
      ],
      "execution_count": 0,
      "outputs": [
        {
          "output_type": "stream",
          "text": [
            "en : \n",
            "Training: [('positive', 1114), ('negative', 521)] , total = 1635\n",
            "Test: [('positive', 413), ('negative', 139)] , total = 552 \n",
            "\n",
            "es : \n",
            "Training: [('positive', 1145), ('negative', 406)] , total = 1551\n",
            "Test: [('positive', 455), ('negative', 189)] , total = 644 \n",
            "\n",
            "nl : \n",
            "Training: [('positive', 712), ('negative', 498)] , total = 1210\n",
            "Test: [('positive', 253), ('negative', 173)] , total = 426 \n",
            "\n",
            "ru : \n",
            "Training: [('positive', 2014), ('negative', 528)] , total = 2542\n",
            "Test: [('positive', 592), ('negative', 241)] , total = 833 \n",
            "\n",
            "ar : \n",
            "Training: [('positive', 2733), ('negative', 1795)] , total = 4528\n",
            "Test: [('positive', 656), ('negative', 498)] , total = 1154 \n",
            "\n",
            "tr : \n",
            "Training: [('positive', 573), ('negative', 435)] , total = 1008\n",
            "Test: [('positive', 84), ('negative', 36)] , total = 120 \n",
            "\n"
          ],
          "name": "stdout"
        }
      ]
    },
    {
      "cell_type": "markdown",
      "metadata": {
        "colab_type": "text",
        "id": "kDGkNNCFKqWD"
      },
      "source": [
        "## Dataset statistics\n",
        "\n",
        "The multilingual dataset consists in 6 different languages: english (```en```), spanish (`es`), dutch (`nl`), russian (`ru`), arabic (`a`r) and turkish (`tr`).\n",
        "\n",
        "all_languages = ['en','es','nl','ru','ar','tr']\n",
        "\n",
        "get_statistics(all_languages)\n",
        "\n",
        "#Few Shot Learning\n",
        "While learning a language classification model generally requires abundance of training materials, it happens frequently that some languages are systematically under representated, leading to poor prediction performance. \n",
        "\n",
        "In that situation, using a common language representation such as LASER permits to increase the training data by adding to the initial (small) set, (possibly larger) dataset from other languages. \n",
        "\n",
        "As shown in figure below, poplulating the training space increases the chances to accurately determine the decision function.  \n",
        "\n",
        "![Few Shot Learning](https://upload.wikimedia.org/wikipedia/commons/d/d0/Example_of_unlabeled_data_in_semisupervised_learning.png)\n",
        "\n",
        "In the following, we are going to experiment the Few Shot Learning concepts by training and testing classifier on different combinations of languague.\n",
        "\n",
        "Let's train a [Logistic Regression](https://fr.wikipedia.org/wiki/R%C3%A9gression_logistique) (a linear classifier) on russian, and look at the model accuracy\n",
        "\n"
      ]
    },
    {
      "cell_type": "code",
      "metadata": {
        "colab_type": "code",
        "id": "OBUVG8CnKqWG",
        "outputId": "1cceb557-d4bd-4833-e77e-3bc40159eb93",
        "colab": {
          "base_uri": "https://localhost:8080/",
          "height": 125
        }
      },
      "source": [
        "x_train,y_train = load_training_languages(['ru'])\n",
        "lr = LogisticRegression(C = 10,max_iter = 200,random_state = 1).fit(x_train,y_train)\n",
        "_ = model_evaluation(lr, ['ru'])"
      ],
      "execution_count": 0,
      "outputs": [
        {
          "output_type": "stream",
          "text": [
            "ru : F1=  0.7053140096618357 \n",
            "                PRED NEGATIVE  PRED POSITIVE\n",
            "TRUE NEGATIVE            146             95\n",
            "TRUE POSITIVE             27            565 \n",
            "\n"
          ],
          "name": "stdout"
        }
      ]
    },
    {
      "cell_type": "markdown",
      "metadata": {
        "colab_type": "text",
        "id": "78896zX5KqWV"
      },
      "source": [
        "The overall performance is not fantastic. Could we do better? Let's add more languages to the training data\n"
      ]
    },
    {
      "cell_type": "code",
      "metadata": {
        "colab_type": "code",
        "id": "b_aDaev8KqWg",
        "outputId": "3936799d-45aa-4b89-ab7d-eb19d79654da",
        "colab": {
          "base_uri": "https://localhost:8080/",
          "height": 125
        }
      },
      "source": [
        "x_train,y_train = load_training_languages(all_languages)\n",
        "lr = LogisticRegression(C = 10,max_iter = 200,random_state = 1).fit(x_train,y_train)\n",
        "_ = model_evaluation(lr, ['ru'])"
      ],
      "execution_count": 0,
      "outputs": [
        {
          "output_type": "stream",
          "text": [
            "ru : F1=  0.8092243186582809 \n",
            "                PRED NEGATIVE  PRED POSITIVE\n",
            "TRUE NEGATIVE            193             48\n",
            "TRUE POSITIVE             43            549 \n",
            "\n"
          ],
          "name": "stdout"
        }
      ]
    },
    {
      "cell_type": "markdown",
      "metadata": {
        "colab_type": "text",
        "id": "csU-_bJfKqWt"
      },
      "source": [
        "The F1 score has improved by 0.1! Quite impressive.\n",
        "\n",
        "Same operation with turkish\n",
        "\n"
      ]
    },
    {
      "cell_type": "code",
      "metadata": {
        "colab_type": "code",
        "id": "pVW_rO_dKqWz",
        "outputId": "d1923553-2e02-4e25-85a2-0187b1903ba7",
        "colab": {
          "base_uri": "https://localhost:8080/",
          "height": 125
        }
      },
      "source": [
        "\n",
        "x_train,y_train = load_training_languages(['tr'])\n",
        "lr = LogisticRegression(C = 10,random_state = 1).fit(x_train,y_train)\n",
        "_ = model_evaluation(lr, ['tr'])\n"
      ],
      "execution_count": 0,
      "outputs": [
        {
          "output_type": "stream",
          "text": [
            "tr : F1=  0.6582278481012659 \n",
            "                PRED NEGATIVE  PRED POSITIVE\n",
            "TRUE NEGATIVE             26             10\n",
            "TRUE POSITIVE             17             67 \n",
            "\n"
          ],
          "name": "stdout"
        }
      ]
    },
    {
      "cell_type": "markdown",
      "metadata": {
        "colab_type": "text",
        "id": "C3zZQnaNKqW9"
      },
      "source": [
        "The F1 score is now quite low. Small dataset, data quality, language complexity may explain the poor performance.\n",
        "\n",
        "Fair enough, let's use all available languages to improve our model\n"
      ]
    },
    {
      "cell_type": "code",
      "metadata": {
        "colab_type": "code",
        "id": "p5qs4LvaKqXA",
        "outputId": "1356f27e-69ae-4437-efe4-85b0ddb2ae40",
        "colab": {
          "base_uri": "https://localhost:8080/",
          "height": 125
        }
      },
      "source": [
        "\n",
        "x_train,y_train = load_training_languages(all_languages)\n",
        "lr = LogisticRegression(C = 10,max_iter = 200,random_state = 1).fit(x_train,y_train)\n",
        "_ = model_evaluation(lr, ['tr'])\n"
      ],
      "execution_count": 0,
      "outputs": [
        {
          "output_type": "stream",
          "text": [
            "tr : F1=  0.6578947368421053 \n",
            "                PRED NEGATIVE  PRED POSITIVE\n",
            "TRUE NEGATIVE             25             11\n",
            "TRUE POSITIVE             15             69 \n",
            "\n"
          ],
          "name": "stdout"
        }
      ]
    },
    {
      "cell_type": "markdown",
      "metadata": {
        "colab_type": "text",
        "id": "pQf1QyeGKqXG"
      },
      "source": [
        "No improvement... Maybe another combination of languages leads to different results. What happen if we remove spanish and russian from the training set\n"
      ]
    },
    {
      "cell_type": "code",
      "metadata": {
        "colab_type": "code",
        "id": "LnvlGoxyKqXH",
        "outputId": "275dc4ef-096e-4659-8348-8f7d60bd3fa1",
        "colab": {
          "base_uri": "https://localhost:8080/",
          "height": 125
        }
      },
      "source": [
        "\n",
        "x_train,y_train = load_training_languages(['ar','tr','nl','en'])\n",
        "lr = LogisticRegression(C = 10,max_iter = 200,random_state = 1).fit(x_train,y_train)\n",
        "_ = model_evaluation(lr, ['tr'])\n"
      ],
      "execution_count": 0,
      "outputs": [
        {
          "output_type": "stream",
          "text": [
            "tr : F1=  0.7088607594936709 \n",
            "                PRED NEGATIVE  PRED POSITIVE\n",
            "TRUE NEGATIVE             28              8\n",
            "TRUE POSITIVE             15             69 \n",
            "\n"
          ],
          "name": "stdout"
        }
      ]
    },
    {
      "cell_type": "markdown",
      "metadata": {
        "colab_type": "text",
        "id": "0ARZF0deKqXK"
      },
      "source": [
        "Better! Apparently spanish and russian were perturbing the model for turkish language.\n",
        "\n",
        "Could we imagine a more systematic source language selection to optimize performance on a specific target language? (Beware that the test set of the target language cannot be used to perform this selection)\n",
        "\n",
        "## Non linear model\n",
        "\n",
        "Until now we have used Logisitic Regression. However more complex models, such as [multi layer perceptron](https://en.wikipedia.org/wiki/Multilayer_perceptron) (MLP) "
      ]
    },
    {
      "cell_type": "code",
      "metadata": {
        "colab_type": "code",
        "id": "7pcPVEvNKqXK",
        "outputId": "3901261d-362b-4c4b-e626-d45e1f3794cf",
        "colab": {
          "base_uri": "https://localhost:8080/",
          "height": 125
        }
      },
      "source": [
        " from sklearn.neural_network import MLPClassifier\n",
        " mlp = MLPClassifier(solver='lbfgs', \n",
        "                     hidden_layer_sizes=(16),\n",
        "                     activation = 'relu',\n",
        "                     alpha=1e-3,\n",
        "                     max_iter = 50,\n",
        "                     early_stopping =True,\n",
        "                     validation_fraction = 0.2, \n",
        "                     random_state=1)\\\n",
        "      \n",
        " _ = model_evaluation(mlp.fit(x_train,y_train),['ru'])"
      ],
      "execution_count": 0,
      "outputs": [
        {
          "output_type": "stream",
          "text": [
            "ru : F1=  0.7337057728119181 \n",
            "                PRED NEGATIVE  PRED POSITIVE\n",
            "TRUE NEGATIVE            197             44\n",
            "TRUE POSITIVE             99            493 \n",
            "\n"
          ],
          "name": "stdout"
        }
      ]
    },
    {
      "cell_type": "markdown",
      "metadata": {
        "colab_type": "text",
        "id": "WWVM12v_RXG3"
      },
      "source": [
        "or [extreme gradient boosting](https://en.wikipedia.org/wiki/XGBoost) (xgboost) are obviously possible."
      ]
    },
    {
      "cell_type": "code",
      "metadata": {
        "colab_type": "code",
        "id": "yyiIGc05KqXR",
        "outputId": "ec8755b2-43de-401b-ee75-ba7c34d07476",
        "colab": {
          "base_uri": "https://localhost:8080/",
          "height": 125
        }
      },
      "source": [
        "import xgboost as xgb\n",
        "boost = xgb_model = xgb.XGBClassifier(objective=\"binary:logistic\",max_depth =5, random_state=42)\n",
        "_ = model_evaluation(boost.fit(x_train,y_train),['ru'])"
      ],
      "execution_count": 0,
      "outputs": [
        {
          "output_type": "stream",
          "text": [
            "ru : F1=  0.7999999999999999 \n",
            "                PRED NEGATIVE  PRED POSITIVE\n",
            "TRUE NEGATIVE            210             31\n",
            "TRUE POSITIVE             74            518 \n",
            "\n"
          ],
          "name": "stdout"
        }
      ]
    },
    {
      "cell_type": "markdown",
      "metadata": {
        "colab_type": "text",
        "id": "JvX_liTERnBB"
      },
      "source": [
        "What can we conclude from the above results?"
      ]
    },
    {
      "cell_type": "markdown",
      "metadata": {
        "id": "3cWr_CCX7m1M",
        "colab_type": "text"
      },
      "source": [
        "# References\n",
        "\n",
        "[1. Ruder et al., A Survey Of Cross-lingual Word Embedding Models](https://arxiv.org/abs/1706.04902)\n",
        "\n",
        "[2. Artexte and Schwenk, Massively Multilingual Sentence Embeddings for Zero-Shot Cross-Lingual Transfer and Beyond](https://arxiv.org/abs/1812.10464)\n",
        "\n",
        "[3. Lena Voita et al., Evolution of Representations in the Transformer](https://arxiv.org/abs/1909.01380)\n",
        "\n",
        "[4. Balikas and Partalas, Wasserstein distances for evaluating cross-lingual embeddings](https://arxiv.org/abs/1910.11005)\n"
      ]
    }
  ]
}